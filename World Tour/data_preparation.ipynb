{
 "cells": [
  {
   "cell_type": "code",
   "execution_count": 13,
   "metadata": {},
   "outputs": [],
   "source": [
    "import requests\n",
    "from bs4 import BeautifulSoup\n",
    "\n",
    "import pandas as pd"
   ]
  },
  {
   "cell_type": "markdown",
   "metadata": {},
   "source": [
    "# Create list of tours"
   ]
  },
  {
   "cell_type": "markdown",
   "metadata": {},
   "source": [
    "## Highest-grossing tours \n",
    "https://en.wikipedia.org/wiki/List_of_highest-grossing_concert_tours"
   ]
  },
  {
   "cell_type": "code",
   "execution_count": 14,
   "metadata": {},
   "outputs": [],
   "source": [
    "url = \"https://en.wikipedia.org/wiki/List_of_highest-grossing_concert_tours\""
   ]
  },
  {
   "cell_type": "code",
   "execution_count": 15,
   "metadata": {},
   "outputs": [],
   "source": [
    "response = requests.get(\n",
    "\turl=url,\n",
    ")\n",
    "soup = BeautifulSoup(response.content, 'html.parser')\n",
    "\n",
    "captions = [\n",
    "    \"Top 20 highest-grossing tours of all time\",\n",
    "    \"Top 10 highest-grossing tours of the 1980s\",\n",
    "    \"Top 10 highest-grossing tours of the 1990s\",\n",
    "    \"Top 10 highest-grossing tours of the 2000s\",\n",
    "    \"Top 10 highest-grossing tours of the 2010s\",\n",
    "    \"Top 10 highest-grossing tours of the 2020s\"\n",
    "]"
   ]
  },
  {
   "cell_type": "code",
   "execution_count": 16,
   "metadata": {},
   "outputs": [
    {
     "name": "stdout",
     "output_type": "stream",
     "text": [
      "(20, 11)\n",
      "(30, 12)\n",
      "(40, 12)\n",
      "(45, 12)\n",
      "(45, 12)\n",
      "(49, 12)\n"
     ]
    }
   ],
   "source": [
    "URL = \"https://en.wikipedia.org/wiki/List_of_highest-grossing_concert_tours\"\n",
    "def create_tour_list(captions, url):\n",
    "    df = pd.DataFrame()\n",
    "    for caption in captions:\n",
    "        df_tmp = pd.read_html(url, \n",
    "                          match=caption)[0]\n",
    "        \n",
    "        tour_links = pd.read_html(url, \n",
    "                  match=caption,\n",
    "                  extract_links=\"all\")[0][(\"Tour title\", None)]\n",
    "        \n",
    "        tour_links = pd.DataFrame(tour_links.tolist(), columns=[\"Tour title\", \"Tour link\"])\n",
    "        df_tmp = df_tmp.merge(tour_links, on=\"Tour title\")\n",
    "\n",
    "        df = pd.concat([df, df_tmp]).drop_duplicates('Tour title').reset_index(drop=True)\n",
    "        print(df.shape)\n",
    "    \n",
    "    return df\n",
    "\n",
    "df = create_tour_list(captions, url)"
   ]
  },
  {
   "cell_type": "code",
   "execution_count": 17,
   "metadata": {},
   "outputs": [],
   "source": [
    "df = df.rename(columns={df.columns[3]: 'Adjusted gross (in 2022 dollars)',\n",
    "                   df.columns[-1]: 'Adjusted gross (in 2022 dollar)',\n",
    "                   df.columns[2]: 'Actual gross'})"
   ]
  },
  {
   "cell_type": "code",
   "execution_count": 18,
   "metadata": {},
   "outputs": [],
   "source": [
    "df.loc[df['Adjusted gross (in 2022 dollars)'].isna(), 'Adjusted gross (in 2022 dollars)'] = df['Adjusted gross (in 2022 dollar)']"
   ]
  },
  {
   "cell_type": "code",
   "execution_count": 19,
   "metadata": {},
   "outputs": [],
   "source": [
    "df = df[[\"Actual gross\", \"Adjusted gross (in 2022 dollars)\", \"Artist\", \"Tour title\", \"Tour link\", \"Year(s)\", \"Shows\"]]"
   ]
  },
  {
   "cell_type": "code",
   "execution_count": 20,
   "metadata": {},
   "outputs": [
    {
     "data": {
      "text/html": [
       "<div>\n",
       "<style scoped>\n",
       "    .dataframe tbody tr th:only-of-type {\n",
       "        vertical-align: middle;\n",
       "    }\n",
       "\n",
       "    .dataframe tbody tr th {\n",
       "        vertical-align: top;\n",
       "    }\n",
       "\n",
       "    .dataframe thead th {\n",
       "        text-align: right;\n",
       "    }\n",
       "</style>\n",
       "<table border=\"1\" class=\"dataframe\">\n",
       "  <thead>\n",
       "    <tr style=\"text-align: right;\">\n",
       "      <th></th>\n",
       "      <th>Actual gross</th>\n",
       "      <th>Adjusted gross (in 2022 dollars)</th>\n",
       "      <th>Artist</th>\n",
       "      <th>Tour title</th>\n",
       "      <th>Tour link</th>\n",
       "      <th>Year(s)</th>\n",
       "      <th>Shows</th>\n",
       "    </tr>\n",
       "  </thead>\n",
       "  <tbody>\n",
       "    <tr>\n",
       "      <th>0</th>\n",
       "      <td>$939,100,000</td>\n",
       "      <td>$939,100,000</td>\n",
       "      <td>Elton John</td>\n",
       "      <td>Farewell Yellow Brick Road</td>\n",
       "      <td>/wiki/Farewell_Yellow_Brick_Road</td>\n",
       "      <td>2018–2023</td>\n",
       "      <td>330</td>\n",
       "    </tr>\n",
       "    <tr>\n",
       "      <th>1</th>\n",
       "      <td>$780,000,000</td>\n",
       "      <td>$780,000,000</td>\n",
       "      <td>Taylor Swift</td>\n",
       "      <td>The Eras Tour †</td>\n",
       "      <td>/wiki/The_Eras_Tour</td>\n",
       "      <td>2023</td>\n",
       "      <td>56</td>\n",
       "    </tr>\n",
       "    <tr>\n",
       "      <th>2</th>\n",
       "      <td>$776,200,000</td>\n",
       "      <td>$888,442,379</td>\n",
       "      <td>Ed Sheeran</td>\n",
       "      <td>÷ Tour</td>\n",
       "      <td>/wiki/%C3%B7_Tour</td>\n",
       "      <td>2017–2019</td>\n",
       "      <td>255</td>\n",
       "    </tr>\n",
       "    <tr>\n",
       "      <th>3</th>\n",
       "      <td>$736,421,586</td>\n",
       "      <td>$958,001,690</td>\n",
       "      <td>U2</td>\n",
       "      <td>U2 360° Tour</td>\n",
       "      <td>/wiki/U2_360%C2%B0_Tour</td>\n",
       "      <td>2009–2011</td>\n",
       "      <td>110</td>\n",
       "    </tr>\n",
       "    <tr>\n",
       "      <th>4</th>\n",
       "      <td>$667,726,905</td>\n",
       "      <td>$667,726,905</td>\n",
       "      <td>Coldplay</td>\n",
       "      <td>Music of the Spheres World Tour †</td>\n",
       "      <td>/wiki/Music_of_the_Spheres_World_Tour</td>\n",
       "      <td>2022–2023</td>\n",
       "      <td>114</td>\n",
       "    </tr>\n",
       "  </tbody>\n",
       "</table>\n",
       "</div>"
      ],
      "text/plain": [
       "   Actual gross Adjusted gross (in 2022 dollars)        Artist  \\\n",
       "0  $939,100,000                     $939,100,000    Elton John   \n",
       "1  $780,000,000                     $780,000,000  Taylor Swift   \n",
       "2  $776,200,000                     $888,442,379    Ed Sheeran   \n",
       "3  $736,421,586                     $958,001,690            U2   \n",
       "4  $667,726,905                     $667,726,905      Coldplay   \n",
       "\n",
       "                          Tour title                              Tour link  \\\n",
       "0         Farewell Yellow Brick Road       /wiki/Farewell_Yellow_Brick_Road   \n",
       "1                    The Eras Tour †                    /wiki/The_Eras_Tour   \n",
       "2                             ÷ Tour                      /wiki/%C3%B7_Tour   \n",
       "3                       U2 360° Tour                /wiki/U2_360%C2%B0_Tour   \n",
       "4  Music of the Spheres World Tour †  /wiki/Music_of_the_Spheres_World_Tour   \n",
       "\n",
       "     Year(s)  Shows  \n",
       "0  2018–2023    330  \n",
       "1       2023     56  \n",
       "2  2017–2019    255  \n",
       "3  2009–2011    110  \n",
       "4  2022–2023    114  "
      ]
     },
     "execution_count": 20,
     "metadata": {},
     "output_type": "execute_result"
    }
   ],
   "source": [
    "df.head()"
   ]
  },
  {
   "cell_type": "markdown",
   "metadata": {},
   "source": [
    "## List of most-attended concert tours\n",
    "https://en.wikipedia.org/wiki/List_of_most-attended_concert_tours"
   ]
  },
  {
   "cell_type": "code",
   "execution_count": 21,
   "metadata": {},
   "outputs": [
    {
     "name": "stdout",
     "output_type": "stream",
     "text": [
      "(14, 7)\n",
      "(31, 7)\n"
     ]
    }
   ],
   "source": [
    "captions = [\n",
    "    \"Tours attended by 5 million people or more\",\n",
    "    \"Tours attended by 3.5 to 4.9 million people\"\n",
    "]\n",
    "URL = \"https://en.wikipedia.org/wiki/List_of_most-attended_concert_tours\"\n",
    "\n",
    "df_att = create_tour_list(captions, URL)"
   ]
  },
  {
   "cell_type": "code",
   "execution_count": 22,
   "metadata": {},
   "outputs": [],
   "source": [
    "df_att = df_att[[\"Year(s)\", \"Tour title\", \"Tour link\", \"Artist\", \"Shows\", \"Tickets sold\"]]\n",
    "df = pd.concat([df, df_att]).drop_duplicates('Tour link').reset_index(drop=True)"
   ]
  },
  {
   "cell_type": "code",
   "execution_count": 11,
   "metadata": {},
   "outputs": [
    {
     "data": {
      "text/html": [
       "<div>\n",
       "<style scoped>\n",
       "    .dataframe tbody tr th:only-of-type {\n",
       "        vertical-align: middle;\n",
       "    }\n",
       "\n",
       "    .dataframe tbody tr th {\n",
       "        vertical-align: top;\n",
       "    }\n",
       "\n",
       "    .dataframe thead th {\n",
       "        text-align: right;\n",
       "    }\n",
       "</style>\n",
       "<table border=\"1\" class=\"dataframe\">\n",
       "  <thead>\n",
       "    <tr style=\"text-align: right;\">\n",
       "      <th></th>\n",
       "      <th>Actual gross</th>\n",
       "      <th>Adjusted gross (in 2022 dollars)</th>\n",
       "      <th>Artist</th>\n",
       "      <th>Tour title</th>\n",
       "      <th>Tour link</th>\n",
       "      <th>Year(s)</th>\n",
       "      <th>Shows</th>\n",
       "      <th>Tickets sold</th>\n",
       "    </tr>\n",
       "  </thead>\n",
       "  <tbody>\n",
       "    <tr>\n",
       "      <th>0</th>\n",
       "      <td>$939,100,000</td>\n",
       "      <td>$939,100,000</td>\n",
       "      <td>Elton John</td>\n",
       "      <td>Farewell Yellow Brick Road</td>\n",
       "      <td>/wiki/Farewell_Yellow_Brick_Road</td>\n",
       "      <td>2018–2023</td>\n",
       "      <td>330</td>\n",
       "      <td>NaN</td>\n",
       "    </tr>\n",
       "    <tr>\n",
       "      <th>1</th>\n",
       "      <td>$780,000,000</td>\n",
       "      <td>$780,000,000</td>\n",
       "      <td>Taylor Swift</td>\n",
       "      <td>The Eras Tour †</td>\n",
       "      <td>/wiki/The_Eras_Tour</td>\n",
       "      <td>2023</td>\n",
       "      <td>56</td>\n",
       "      <td>NaN</td>\n",
       "    </tr>\n",
       "    <tr>\n",
       "      <th>2</th>\n",
       "      <td>$776,200,000</td>\n",
       "      <td>$888,442,379</td>\n",
       "      <td>Ed Sheeran</td>\n",
       "      <td>÷ Tour</td>\n",
       "      <td>/wiki/%C3%B7_Tour</td>\n",
       "      <td>2017–2019</td>\n",
       "      <td>255</td>\n",
       "      <td>NaN</td>\n",
       "    </tr>\n",
       "    <tr>\n",
       "      <th>3</th>\n",
       "      <td>$736,421,586</td>\n",
       "      <td>$958,001,690</td>\n",
       "      <td>U2</td>\n",
       "      <td>U2 360° Tour</td>\n",
       "      <td>/wiki/U2_360%C2%B0_Tour</td>\n",
       "      <td>2009–2011</td>\n",
       "      <td>110</td>\n",
       "      <td>NaN</td>\n",
       "    </tr>\n",
       "    <tr>\n",
       "      <th>4</th>\n",
       "      <td>$667,726,905</td>\n",
       "      <td>$667,726,905</td>\n",
       "      <td>Coldplay</td>\n",
       "      <td>Music of the Spheres World Tour †</td>\n",
       "      <td>/wiki/Music_of_the_Spheres_World_Tour</td>\n",
       "      <td>2022–2023</td>\n",
       "      <td>114</td>\n",
       "      <td>NaN</td>\n",
       "    </tr>\n",
       "  </tbody>\n",
       "</table>\n",
       "</div>"
      ],
      "text/plain": [
       "   Actual gross Adjusted gross (in 2022 dollars)        Artist  \\\n",
       "0  $939,100,000                     $939,100,000    Elton John   \n",
       "1  $780,000,000                     $780,000,000  Taylor Swift   \n",
       "2  $776,200,000                     $888,442,379    Ed Sheeran   \n",
       "3  $736,421,586                     $958,001,690            U2   \n",
       "4  $667,726,905                     $667,726,905      Coldplay   \n",
       "\n",
       "                          Tour title                              Tour link  \\\n",
       "0         Farewell Yellow Brick Road       /wiki/Farewell_Yellow_Brick_Road   \n",
       "1                    The Eras Tour †                    /wiki/The_Eras_Tour   \n",
       "2                             ÷ Tour                      /wiki/%C3%B7_Tour   \n",
       "3                       U2 360° Tour                /wiki/U2_360%C2%B0_Tour   \n",
       "4  Music of the Spheres World Tour †  /wiki/Music_of_the_Spheres_World_Tour   \n",
       "\n",
       "     Year(s)  Shows Tickets sold  \n",
       "0  2018–2023    330          NaN  \n",
       "1       2023     56          NaN  \n",
       "2  2017–2019    255          NaN  \n",
       "3  2009–2011    110          NaN  \n",
       "4  2022–2023    114          NaN  "
      ]
     },
     "execution_count": 11,
     "metadata": {},
     "output_type": "execute_result"
    }
   ],
   "source": [
    "df.head(5)"
   ]
  },
  {
   "cell_type": "markdown",
   "metadata": {},
   "source": [
    "I remove:\n",
    "- index 50 - duplicated tour\n",
    "- index 35 - wrong wikipedia page, no info about tour"
   ]
  },
  {
   "cell_type": "code",
   "execution_count": 27,
   "metadata": {},
   "outputs": [],
   "source": [
    "df = df.drop(index=[50, 35]).reset_index()"
   ]
  },
  {
   "cell_type": "markdown",
   "metadata": {},
   "source": [
    "# Gather data without cancelled shows"
   ]
  },
  {
   "cell_type": "code",
   "execution_count": 30,
   "metadata": {},
   "outputs": [],
   "source": [
    "BASE_URL = \"https://en.wikipedia.org\"\n",
    "for index, row in df.iterrows():\n",
    "    url = BASE_URL + row[\"Tour link\"]\n",
    "    response = requests.get(url=url)\n",
    "\n",
    "    soup = BeautifulSoup(response.content, 'html.parser')\n",
    "    # print(f\"{row['Tour title']}\")\n",
    "    for t in soup.body.findAll(\"table\"):\n",
    "        # print(\"Cancelled shows\" in str(t.find_previous_sibling()))\n",
    "\n",
    "        if \"Cancelled shows\" in str(t.find_previous_sibling()):\n",
    "            t.clear()\n"
   ]
  },
  {
   "cell_type": "markdown",
   "metadata": {},
   "source": [
    "I'm gonna combine this piece of code with code that is parsing entire tables"
   ]
  },
  {
   "cell_type": "code",
   "execution_count": 31,
   "metadata": {},
   "outputs": [],
   "source": [
    "BASE_URL = \"https://en.wikipedia.org\"\n",
    "df_tours = pd.DataFrame()\n",
    "\n",
    "for index, row in df.iterrows():\n",
    "    url = BASE_URL + row[\"Tour link\"]\n",
    "    response = requests.get(url=url)\n",
    "\n",
    "    soup = BeautifulSoup(response.content, 'html.parser')\n",
    "    for t in soup.body.findAll(\"table\"):\n",
    "        if \"Cancelled shows\" in str(t.find_previous_sibling()):\n",
    "            t.clear()\n",
    "\n",
    "    tables = pd.read_html(str(soup))\n",
    "    df_tour_tmp = pd.DataFrame()\n",
    "    for t in tables:\n",
    "        if \"City\" in t.columns and \"Country\" in t.columns:\n",
    "            t.columns = t.columns.get_level_values(0)\n",
    "            for i, _ in enumerate(t.columns):\n",
    "                if t.columns[i].startswith(\"Date\"):\n",
    "                    t = t.rename(columns={t.columns[i] : \"Date\"})\n",
    "            df_tour_tmp = pd.concat([df_tour_tmp, t[[\"Country\", \"City\", \"Venue\", \"Date\"]]])\n",
    "    df_tour_tmp = df_tour_tmp.drop(df_tour_tmp[df_tour_tmp[\"Date\"] == df_tour_tmp[\"City\"]].index)\n",
    "    df_tour_tmp[\"Artist\"] = row[\"Artist\"]\n",
    "    df_tour_tmp[\"Tour title\"] = row[\"Tour title\"]\n",
    "    \n",
    "    df_tours = pd.concat([df_tours, df_tour_tmp])\n",
    "    # print(f\"{row['Tour title']}\")"
   ]
  },
  {
   "cell_type": "code",
   "execution_count": 34,
   "metadata": {},
   "outputs": [],
   "source": [
    "df_tours = df_tours.reset_index(drop=True)"
   ]
  },
  {
   "cell_type": "code",
   "execution_count": 32,
   "metadata": {},
   "outputs": [
    {
     "data": {
      "text/plain": [
       "(7601, 6)"
      ]
     },
     "execution_count": 32,
     "metadata": {},
     "output_type": "execute_result"
    }
   ],
   "source": [
    "df_tours.shape"
   ]
  },
  {
   "cell_type": "markdown",
   "metadata": {},
   "source": [
    "Almost hundred of shows were rejected - before skipping cancelled ones there was 7696 shows."
   ]
  },
  {
   "cell_type": "markdown",
   "metadata": {},
   "source": [
    "# Geolocation of cities"
   ]
  },
  {
   "cell_type": "code",
   "execution_count": 35,
   "metadata": {},
   "outputs": [],
   "source": [
    "from geopy.geocoders import Nominatim\n",
    "geolocator = Nominatim(user_agent=\"my_user_agent_3\")"
   ]
  },
  {
   "cell_type": "markdown",
   "metadata": {},
   "source": [
    "Many venues are recurring, so it may be good idea to cache already geolocated places in dictionary object"
   ]
  },
  {
   "cell_type": "code",
   "execution_count": 36,
   "metadata": {},
   "outputs": [],
   "source": [
    "cached_locations = {}\n",
    "\n",
    "def geolocalize_cities(df_tours):\n",
    "    for index, row in df_tours.iterrows():\n",
    "        venue = f\"{df_tours.iloc[index, 1]}, {df_tours.iloc[index, 0]}\"\n",
    "        if venue in cached_locations:\n",
    "            df_tours.loc[index, \"Latitude\"] = cached_locations[venue][0]\n",
    "            df_tours.loc[index, \"Longtitude\"] = cached_locations[venue][1]\n",
    "        else:\n",
    "            location = geolocator.geocode(venue, timeout=10)\n",
    "            if not location:\n",
    "                print(venue)\n",
    "                continue\n",
    "            df_tours.loc[index, \"Latitude\"] = location.latitude\n",
    "            df_tours.loc[index, \"Longtitude\"] = location.longitude\n",
    "            cached_locations[venue] = [location.latitude, location.longitude]\n"
   ]
  },
  {
   "cell_type": "code",
   "execution_count": 37,
   "metadata": {},
   "outputs": [
    {
     "name": "stdout",
     "output_type": "stream",
     "text": [
      "Langraaf, Netherlands\n",
      "Hanover, West Germany\n",
      "Moscow, Soviet Union\n",
      "Moscow, Soviet Union\n",
      "Moscow, Soviet Union\n",
      "Moscow, Soviet Union\n",
      "Moscow, Soviet Union\n",
      "Cologne, West Germany\n",
      "Cologne, West Germany\n",
      "Hockenheim, West Germany\n",
      "Würzburg, West Germany\n",
      "Hanover, West Germany\n",
      "Hanover, West Germany\n",
      "Cologne, West Germany\n",
      "Cologne, West Germany\n",
      "East Berlin, East Germany\n",
      "East Berlin, East Germany\n",
      "Prague, Czechoslovakia\n",
      "Nürburgring, West Germany\n",
      "Slane, Ireland, Republic of\n",
      "Nuremberg, West Germany\n",
      "Nuremberg, West Germany\n",
      "Hanover, West Germany\n",
      "Hanover, West Germany\n",
      "Hanover, West Germany\n",
      "Mursfreesboro, United States\n",
      "Cologne, West Germany\n",
      "Taipei City, Taiwan[21][22]\n",
      "Kaohsiung, Taiwan[21][22]\n",
      "Taipei City, Taiwan[21][22]\n"
     ]
    }
   ],
   "source": [
    "geolocalize_cities(df_tours)"
   ]
  },
  {
   "cell_type": "markdown",
   "metadata": {},
   "source": [
    "Now I know, that 30 places aren't geolocalised properly:\n",
    "    - Some had additional characters attached to country name (Taiwan[21][22])\n",
    "    - Some had country that is no longer existing (like Moscow, Soviet Union; Hanover - West Germany)\n",
    "    - Some had misspelings (Langraaf -> Landgraaf; Mursfreesboro->Murfreesboro)"
   ]
  },
  {
   "cell_type": "code",
   "execution_count": 77,
   "metadata": {},
   "outputs": [],
   "source": [
    "df_tours.loc[df_tours[\"Country\"] == \"West Germany\", \"Country\"] = \"Germany\"\n",
    "df_tours.loc[df_tours[\"Country\"] == \"Ireland, Republic of\", \"Country\"] = \"Ireland\"\n",
    "df_tours.loc[df_tours[\"Country\"] == \"Republic of Ireland\", \"Country\"] = \"Ireland\"\n",
    "df_tours.loc[df_tours[\"Country\"] == \"Czechoslovakia\", \"Country\"] = \"Czech Republic\"\n",
    "df_tours.loc[df_tours[\"Country\"] == \"Soviet Union\", \"Country\"] = \"Russia\"\n",
    "df_tours.loc[df_tours[\"Country\"] == \"East Germany\", \"Country\"] = \"Germany\"\n",
    "df_tours.loc[df_tours[\"Country\"] == \"Perú\", \"Country\"] = \"Peru\"\n",
    "\n",
    "\n",
    "df_tours.loc[df_tours[\"Country\"] == \"Taiwan[21][22]\", \"Country\"] = \"Taiwan\"\n",
    "\n",
    "df_tours.loc[df_tours[\"City\"] == \"Langraaf\", \"City\"] = \"Landgraaf\"\n",
    "df_tours.loc[df_tours[\"City\"] == \"Mursfreesboro\", \"City\"] = \"Murfreesboro\"\n",
    "df_tours.loc[df_tours[\"City\"] == \"East Berlin\", \"City\"] = \"Berlin\"\n"
   ]
  },
  {
   "cell_type": "code",
   "execution_count": 39,
   "metadata": {},
   "outputs": [],
   "source": [
    "geolocalize_cities(df_tours)"
   ]
  },
  {
   "cell_type": "markdown",
   "metadata": {},
   "source": [
    "## Add continents data"
   ]
  },
  {
   "cell_type": "code",
   "execution_count": 54,
   "metadata": {},
   "outputs": [],
   "source": [
    "import csv\n",
    "\n",
    "country_to_continent = {}\n",
    "\n",
    "with open('Continents_to_CountryNames.csv') as f:\n",
    "    next(f)\n",
    "    reader = csv.reader(f)\n",
    "    for row in reader:\n",
    "        country_to_continent[row[1]] = row[0]\n"
   ]
  },
  {
   "cell_type": "code",
   "execution_count": 91,
   "metadata": {},
   "outputs": [],
   "source": [
    "country_to_continent[\"England\"] = \"Europe\"\n",
    "country_to_continent[\"Scotland\"] = \"Europe\"\n",
    "country_to_continent[\"Ireland\"] = \"Europe\"\n",
    "country_to_continent[\"Ireland\"] = \"Europe\"\n",
    "country_to_continent[\"Wales\"] = \"Europe\"\n",
    "country_to_continent[\"Northern Ireland\"] = \"Europe\"\n",
    "country_to_continent[\"Puerto Rico\"] = \"North America\"\n",
    "country_to_continent[\"Taiwan\"] = \"Asia\"\n",
    "country_to_continent[\"Hong Kong\"] = \"Asia\"\n",
    "country_to_continent[\"South Korea\"] = \"Asia\"\n",
    "country_to_continent[\"Russia\"] = \"Europe\"\n",
    "country_to_continent[\"Macau\"] = \"Russia\""
   ]
  },
  {
   "cell_type": "code",
   "execution_count": 59,
   "metadata": {},
   "outputs": [
    {
     "data": {
      "text/plain": [
       "'Europe'"
      ]
     },
     "execution_count": 59,
     "metadata": {},
     "output_type": "execute_result"
    }
   ],
   "source": [
    "country_to_continent[\"England\"]"
   ]
  },
  {
   "cell_type": "code",
   "execution_count": 83,
   "metadata": {},
   "outputs": [
    {
     "data": {
      "text/html": [
       "<div>\n",
       "<style scoped>\n",
       "    .dataframe tbody tr th:only-of-type {\n",
       "        vertical-align: middle;\n",
       "    }\n",
       "\n",
       "    .dataframe tbody tr th {\n",
       "        vertical-align: top;\n",
       "    }\n",
       "\n",
       "    .dataframe thead th {\n",
       "        text-align: right;\n",
       "    }\n",
       "</style>\n",
       "<table border=\"1\" class=\"dataframe\">\n",
       "  <thead>\n",
       "    <tr style=\"text-align: right;\">\n",
       "      <th></th>\n",
       "      <th>Country</th>\n",
       "      <th>City</th>\n",
       "      <th>Venue</th>\n",
       "      <th>Date</th>\n",
       "      <th>Artist</th>\n",
       "      <th>Tour title</th>\n",
       "      <th>Latitude</th>\n",
       "      <th>Longtitude</th>\n",
       "    </tr>\n",
       "  </thead>\n",
       "  <tbody>\n",
       "    <tr>\n",
       "      <th>0</th>\n",
       "      <td>United States</td>\n",
       "      <td>Allentown</td>\n",
       "      <td>PPL Center</td>\n",
       "      <td>8 September 2018</td>\n",
       "      <td>Elton John</td>\n",
       "      <td>Farewell Yellow Brick Road</td>\n",
       "      <td>40.602206</td>\n",
       "      <td>-75.471279</td>\n",
       "    </tr>\n",
       "    <tr>\n",
       "      <th>1</th>\n",
       "      <td>United States</td>\n",
       "      <td>Philadelphia</td>\n",
       "      <td>Wells Fargo Center</td>\n",
       "      <td>11 September 2018</td>\n",
       "      <td>Elton John</td>\n",
       "      <td>Farewell Yellow Brick Road</td>\n",
       "      <td>39.952724</td>\n",
       "      <td>-75.163526</td>\n",
       "    </tr>\n",
       "    <tr>\n",
       "      <th>2</th>\n",
       "      <td>United States</td>\n",
       "      <td>Philadelphia</td>\n",
       "      <td>Wells Fargo Center</td>\n",
       "      <td>12 September 2018</td>\n",
       "      <td>Elton John</td>\n",
       "      <td>Farewell Yellow Brick Road</td>\n",
       "      <td>39.952724</td>\n",
       "      <td>-75.163526</td>\n",
       "    </tr>\n",
       "    <tr>\n",
       "      <th>3</th>\n",
       "      <td>United States</td>\n",
       "      <td>Buffalo</td>\n",
       "      <td>KeyBank Center</td>\n",
       "      <td>15 September 2018</td>\n",
       "      <td>Elton John</td>\n",
       "      <td>Farewell Yellow Brick Road</td>\n",
       "      <td>37.709767</td>\n",
       "      <td>-95.697482</td>\n",
       "    </tr>\n",
       "    <tr>\n",
       "      <th>4</th>\n",
       "      <td>United States</td>\n",
       "      <td>University Park</td>\n",
       "      <td>Bryce Jordan Center</td>\n",
       "      <td>16 September 2018</td>\n",
       "      <td>Elton John</td>\n",
       "      <td>Farewell Yellow Brick Road</td>\n",
       "      <td>41.440034</td>\n",
       "      <td>-87.683377</td>\n",
       "    </tr>\n",
       "    <tr>\n",
       "      <th>...</th>\n",
       "      <td>...</td>\n",
       "      <td>...</td>\n",
       "      <td>...</td>\n",
       "      <td>...</td>\n",
       "      <td>...</td>\n",
       "      <td>...</td>\n",
       "      <td>...</td>\n",
       "      <td>...</td>\n",
       "    </tr>\n",
       "    <tr>\n",
       "      <th>7596</th>\n",
       "      <td>United States</td>\n",
       "      <td>Charlotte</td>\n",
       "      <td>PNC Music Pavilion</td>\n",
       "      <td>27 September 2014</td>\n",
       "      <td>One Direction</td>\n",
       "      <td>Where We Are Tour</td>\n",
       "      <td>35.227209</td>\n",
       "      <td>-80.843083</td>\n",
       "    </tr>\n",
       "    <tr>\n",
       "      <th>7597</th>\n",
       "      <td>United States</td>\n",
       "      <td>Charlotte</td>\n",
       "      <td>PNC Music Pavilion</td>\n",
       "      <td>28 September 2014</td>\n",
       "      <td>One Direction</td>\n",
       "      <td>Where We Are Tour</td>\n",
       "      <td>35.227209</td>\n",
       "      <td>-80.843083</td>\n",
       "    </tr>\n",
       "    <tr>\n",
       "      <th>7598</th>\n",
       "      <td>United States</td>\n",
       "      <td>Atlanta</td>\n",
       "      <td>Georgia Dome</td>\n",
       "      <td>1 October 2014</td>\n",
       "      <td>One Direction</td>\n",
       "      <td>Where We Are Tour</td>\n",
       "      <td>33.748992</td>\n",
       "      <td>-84.390264</td>\n",
       "    </tr>\n",
       "    <tr>\n",
       "      <th>7599</th>\n",
       "      <td>United States</td>\n",
       "      <td>Tampa</td>\n",
       "      <td>Raymond James Stadium</td>\n",
       "      <td>3 October 2014</td>\n",
       "      <td>One Direction</td>\n",
       "      <td>Where We Are Tour</td>\n",
       "      <td>27.947760</td>\n",
       "      <td>-82.458444</td>\n",
       "    </tr>\n",
       "    <tr>\n",
       "      <th>7600</th>\n",
       "      <td>United States</td>\n",
       "      <td>Miami Gardens</td>\n",
       "      <td>Sun Life Stadium</td>\n",
       "      <td>5 October 2014</td>\n",
       "      <td>One Direction</td>\n",
       "      <td>Where We Are Tour</td>\n",
       "      <td>25.942038</td>\n",
       "      <td>-80.245604</td>\n",
       "    </tr>\n",
       "  </tbody>\n",
       "</table>\n",
       "<p>7601 rows × 8 columns</p>\n",
       "</div>"
      ],
      "text/plain": [
       "            Country             City                  Venue  \\\n",
       "0     United States        Allentown             PPL Center   \n",
       "1     United States     Philadelphia     Wells Fargo Center   \n",
       "2     United States     Philadelphia     Wells Fargo Center   \n",
       "3     United States          Buffalo         KeyBank Center   \n",
       "4     United States  University Park    Bryce Jordan Center   \n",
       "...             ...              ...                    ...   \n",
       "7596  United States        Charlotte     PNC Music Pavilion   \n",
       "7597  United States        Charlotte     PNC Music Pavilion   \n",
       "7598  United States          Atlanta           Georgia Dome   \n",
       "7599  United States            Tampa  Raymond James Stadium   \n",
       "7600  United States    Miami Gardens       Sun Life Stadium   \n",
       "\n",
       "                   Date         Artist                  Tour title   Latitude  \\\n",
       "0      8 September 2018     Elton John  Farewell Yellow Brick Road  40.602206   \n",
       "1     11 September 2018     Elton John  Farewell Yellow Brick Road  39.952724   \n",
       "2     12 September 2018     Elton John  Farewell Yellow Brick Road  39.952724   \n",
       "3     15 September 2018     Elton John  Farewell Yellow Brick Road  37.709767   \n",
       "4     16 September 2018     Elton John  Farewell Yellow Brick Road  41.440034   \n",
       "...                 ...            ...                         ...        ...   \n",
       "7596  27 September 2014  One Direction           Where We Are Tour  35.227209   \n",
       "7597  28 September 2014  One Direction           Where We Are Tour  35.227209   \n",
       "7598     1 October 2014  One Direction           Where We Are Tour  33.748992   \n",
       "7599     3 October 2014  One Direction           Where We Are Tour  27.947760   \n",
       "7600     5 October 2014  One Direction           Where We Are Tour  25.942038   \n",
       "\n",
       "      Longtitude  \n",
       "0     -75.471279  \n",
       "1     -75.163526  \n",
       "2     -75.163526  \n",
       "3     -95.697482  \n",
       "4     -87.683377  \n",
       "...          ...  \n",
       "7596  -80.843083  \n",
       "7597  -80.843083  \n",
       "7598  -84.390264  \n",
       "7599  -82.458444  \n",
       "7600  -80.245604  \n",
       "\n",
       "[7601 rows x 8 columns]"
      ]
     },
     "execution_count": 83,
     "metadata": {},
     "output_type": "execute_result"
    }
   ],
   "source": [
    "df_tours"
   ]
  },
  {
   "cell_type": "code",
   "execution_count": 88,
   "metadata": {},
   "outputs": [
    {
     "data": {
      "text/plain": [
       "Index([2460, 2461, 3015], dtype='int64')"
      ]
     },
     "execution_count": 88,
     "metadata": {},
     "output_type": "execute_result"
    }
   ],
   "source": [
    "df_tours[df_tours[\"Country\"].isna()].index"
   ]
  },
  {
   "cell_type": "code",
   "execution_count": 89,
   "metadata": {},
   "outputs": [],
   "source": [
    "df_tours[df_tours[\"Country\"].isna()]\n",
    "df_tours = df_tours.drop(index=df_tours[df_tours[\"Country\"].isna()].index )"
   ]
  },
  {
   "cell_type": "code",
   "execution_count": 93,
   "metadata": {},
   "outputs": [
    {
     "data": {
      "text/html": [
       "<div>\n",
       "<style scoped>\n",
       "    .dataframe tbody tr th:only-of-type {\n",
       "        vertical-align: middle;\n",
       "    }\n",
       "\n",
       "    .dataframe tbody tr th {\n",
       "        vertical-align: top;\n",
       "    }\n",
       "\n",
       "    .dataframe thead th {\n",
       "        text-align: right;\n",
       "    }\n",
       "</style>\n",
       "<table border=\"1\" class=\"dataframe\">\n",
       "  <thead>\n",
       "    <tr style=\"text-align: right;\">\n",
       "      <th></th>\n",
       "      <th>Country</th>\n",
       "      <th>City</th>\n",
       "      <th>Venue</th>\n",
       "      <th>Date</th>\n",
       "      <th>Artist</th>\n",
       "      <th>Tour title</th>\n",
       "      <th>Latitude</th>\n",
       "      <th>Longtitude</th>\n",
       "    </tr>\n",
       "  </thead>\n",
       "  <tbody>\n",
       "    <tr>\n",
       "      <th>3871</th>\n",
       "      <td>Oakland–Alameda County Coliseum Arena</td>\n",
       "      <td>Oakland</td>\n",
       "      <td>NaN</td>\n",
       "      <td>24 October 1986</td>\n",
       "      <td>Genesis</td>\n",
       "      <td>Invisible Touch Tour</td>\n",
       "      <td>37.750273</td>\n",
       "      <td>-122.202932</td>\n",
       "    </tr>\n",
       "  </tbody>\n",
       "</table>\n",
       "</div>"
      ],
      "text/plain": [
       "                                    Country     City Venue             Date  \\\n",
       "3871  Oakland–Alameda County Coliseum Arena  Oakland   NaN  24 October 1986   \n",
       "\n",
       "       Artist            Tour title   Latitude  Longtitude  \n",
       "3871  Genesis  Invisible Touch Tour  37.750273 -122.202932  "
      ]
     },
     "execution_count": 93,
     "metadata": {},
     "output_type": "execute_result"
    }
   ],
   "source": [
    "df_tours[df_tours[\"Country\"] == \"Oakland–Alameda County Coliseum Arena\"]"
   ]
  },
  {
   "cell_type": "code",
   "execution_count": 95,
   "metadata": {},
   "outputs": [],
   "source": [
    "df_tours.loc[df_tours[\"Country\"] == \"Oakland–Alameda County Coliseum Arena\", \"Venue\"] = \"Oakland–Alameda County Coliseum Arena\"\n",
    "df_tours.loc[df_tours[\"Country\"] == \"Oakland–Alameda County Coliseum Arena\", \"Country\"] = \"United States\""
   ]
  },
  {
   "cell_type": "code",
   "execution_count": 96,
   "metadata": {},
   "outputs": [],
   "source": [
    "df_tours[\"Continent\"] = df_tours[\"Country\"].apply(lambda x : country_to_continent[x])"
   ]
  },
  {
   "cell_type": "code",
   "execution_count": 64,
   "metadata": {},
   "outputs": [],
   "source": [
    "df_tours.to_csv(\"prepared_data.csv\", encoding=\"utf-8\")"
   ]
  }
 ],
 "metadata": {
  "kernelspec": {
   "display_name": "venv",
   "language": "python",
   "name": "python3"
  },
  "language_info": {
   "codemirror_mode": {
    "name": "ipython",
    "version": 3
   },
   "file_extension": ".py",
   "mimetype": "text/x-python",
   "name": "python",
   "nbconvert_exporter": "python",
   "pygments_lexer": "ipython3",
   "version": "3.10.7"
  }
 },
 "nbformat": 4,
 "nbformat_minor": 2
}

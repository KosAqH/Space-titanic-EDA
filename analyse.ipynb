{
 "cells": [
  {
   "cell_type": "code",
   "execution_count": 2,
   "metadata": {},
   "outputs": [],
   "source": [
    "import pandas as pd\n",
    "import matplotlib.pyplot as plt\n",
    "import os\n",
    "import numpy as np\n",
    "import seaborn as sns\n",
    "import warnings\n",
    "import time"
   ]
  },
  {
   "cell_type": "code",
   "execution_count": 3,
   "metadata": {},
   "outputs": [],
   "source": [
    "from sklearn.feature_selection import SelectKBest\n",
    "from sklearn.feature_selection import f_classif"
   ]
  },
  {
   "cell_type": "code",
   "execution_count": 4,
   "metadata": {},
   "outputs": [],
   "source": [
    "from sklearn.model_selection import cross_val_score, RandomizedSearchCV, GridSearchCV\n",
    "from sklearn.svm import SVC, LinearSVC\n",
    "from sklearn.neighbors import KNeighborsClassifier\n",
    "from sklearn.naive_bayes import GaussianNB\n",
    "from sklearn.tree import DecisionTreeClassifier\n",
    "from sklearn.ensemble import AdaBoostClassifier, RandomForestClassifier\n",
    "from sklearn.linear_model import SGDClassifier, LogisticRegression"
   ]
  },
  {
   "cell_type": "code",
   "execution_count": 10,
   "metadata": {},
   "outputs": [],
   "source": [
    "df = pd.read_csv(os.path.join(\"data\", \"transformed.csv\"))"
   ]
  },
  {
   "cell_type": "code",
   "execution_count": 5,
   "metadata": {},
   "outputs": [
    {
     "data": {
      "text/html": [
       "<div>\n",
       "<style scoped>\n",
       "    .dataframe tbody tr th:only-of-type {\n",
       "        vertical-align: middle;\n",
       "    }\n",
       "\n",
       "    .dataframe tbody tr th {\n",
       "        vertical-align: top;\n",
       "    }\n",
       "\n",
       "    .dataframe thead th {\n",
       "        text-align: right;\n",
       "    }\n",
       "</style>\n",
       "<table border=\"1\" class=\"dataframe\">\n",
       "  <thead>\n",
       "    <tr style=\"text-align: right;\">\n",
       "      <th></th>\n",
       "      <th>PassengerId</th>\n",
       "      <th>CryoSleep</th>\n",
       "      <th>Age</th>\n",
       "      <th>VIP</th>\n",
       "      <th>RoomService</th>\n",
       "      <th>FoodCourt</th>\n",
       "      <th>ShoppingMall</th>\n",
       "      <th>Spa</th>\n",
       "      <th>VRDeck</th>\n",
       "      <th>Transported</th>\n",
       "      <th>...</th>\n",
       "      <th>is_travelling_in_group</th>\n",
       "      <th>Age_bucket</th>\n",
       "      <th>HomePlanet_Orig</th>\n",
       "      <th>Destination_Orig</th>\n",
       "      <th>HomePlanet_Earth</th>\n",
       "      <th>HomePlanet_Europa</th>\n",
       "      <th>HomePlanet_Mars</th>\n",
       "      <th>Destination_55 Cancri e</th>\n",
       "      <th>Destination_PSO J318.5-22</th>\n",
       "      <th>Destination_TRAPPIST-1e</th>\n",
       "    </tr>\n",
       "  </thead>\n",
       "  <tbody>\n",
       "    <tr>\n",
       "      <th>0</th>\n",
       "      <td>0001_01</td>\n",
       "      <td>0</td>\n",
       "      <td>39.0</td>\n",
       "      <td>0</td>\n",
       "      <td>0.0</td>\n",
       "      <td>0.0</td>\n",
       "      <td>0.0</td>\n",
       "      <td>0.0</td>\n",
       "      <td>0.0</td>\n",
       "      <td>False</td>\n",
       "      <td>...</td>\n",
       "      <td>False</td>\n",
       "      <td>30.0</td>\n",
       "      <td>Europa</td>\n",
       "      <td>TRAPPIST-1e</td>\n",
       "      <td>False</td>\n",
       "      <td>True</td>\n",
       "      <td>False</td>\n",
       "      <td>False</td>\n",
       "      <td>False</td>\n",
       "      <td>True</td>\n",
       "    </tr>\n",
       "    <tr>\n",
       "      <th>1</th>\n",
       "      <td>0002_01</td>\n",
       "      <td>0</td>\n",
       "      <td>24.0</td>\n",
       "      <td>0</td>\n",
       "      <td>109.0</td>\n",
       "      <td>9.0</td>\n",
       "      <td>25.0</td>\n",
       "      <td>549.0</td>\n",
       "      <td>44.0</td>\n",
       "      <td>True</td>\n",
       "      <td>...</td>\n",
       "      <td>False</td>\n",
       "      <td>20.0</td>\n",
       "      <td>Earth</td>\n",
       "      <td>TRAPPIST-1e</td>\n",
       "      <td>True</td>\n",
       "      <td>False</td>\n",
       "      <td>False</td>\n",
       "      <td>False</td>\n",
       "      <td>False</td>\n",
       "      <td>True</td>\n",
       "    </tr>\n",
       "    <tr>\n",
       "      <th>2</th>\n",
       "      <td>0003_01</td>\n",
       "      <td>0</td>\n",
       "      <td>58.0</td>\n",
       "      <td>1</td>\n",
       "      <td>43.0</td>\n",
       "      <td>3576.0</td>\n",
       "      <td>0.0</td>\n",
       "      <td>6715.0</td>\n",
       "      <td>49.0</td>\n",
       "      <td>False</td>\n",
       "      <td>...</td>\n",
       "      <td>True</td>\n",
       "      <td>50.0</td>\n",
       "      <td>Europa</td>\n",
       "      <td>TRAPPIST-1e</td>\n",
       "      <td>False</td>\n",
       "      <td>True</td>\n",
       "      <td>False</td>\n",
       "      <td>False</td>\n",
       "      <td>False</td>\n",
       "      <td>True</td>\n",
       "    </tr>\n",
       "    <tr>\n",
       "      <th>3</th>\n",
       "      <td>0003_02</td>\n",
       "      <td>0</td>\n",
       "      <td>33.0</td>\n",
       "      <td>0</td>\n",
       "      <td>0.0</td>\n",
       "      <td>1283.0</td>\n",
       "      <td>371.0</td>\n",
       "      <td>3329.0</td>\n",
       "      <td>193.0</td>\n",
       "      <td>False</td>\n",
       "      <td>...</td>\n",
       "      <td>True</td>\n",
       "      <td>30.0</td>\n",
       "      <td>Europa</td>\n",
       "      <td>TRAPPIST-1e</td>\n",
       "      <td>False</td>\n",
       "      <td>True</td>\n",
       "      <td>False</td>\n",
       "      <td>False</td>\n",
       "      <td>False</td>\n",
       "      <td>True</td>\n",
       "    </tr>\n",
       "    <tr>\n",
       "      <th>4</th>\n",
       "      <td>0004_01</td>\n",
       "      <td>0</td>\n",
       "      <td>16.0</td>\n",
       "      <td>0</td>\n",
       "      <td>303.0</td>\n",
       "      <td>70.0</td>\n",
       "      <td>151.0</td>\n",
       "      <td>565.0</td>\n",
       "      <td>2.0</td>\n",
       "      <td>True</td>\n",
       "      <td>...</td>\n",
       "      <td>False</td>\n",
       "      <td>10.0</td>\n",
       "      <td>Earth</td>\n",
       "      <td>TRAPPIST-1e</td>\n",
       "      <td>True</td>\n",
       "      <td>False</td>\n",
       "      <td>False</td>\n",
       "      <td>False</td>\n",
       "      <td>False</td>\n",
       "      <td>True</td>\n",
       "    </tr>\n",
       "  </tbody>\n",
       "</table>\n",
       "<p>5 rows × 27 columns</p>\n",
       "</div>"
      ],
      "text/plain": [
       "  PassengerId  CryoSleep   Age  VIP  RoomService  FoodCourt  ShoppingMall  \\\n",
       "0     0001_01          0  39.0    0          0.0        0.0           0.0   \n",
       "1     0002_01          0  24.0    0        109.0        9.0          25.0   \n",
       "2     0003_01          0  58.0    1         43.0     3576.0           0.0   \n",
       "3     0003_02          0  33.0    0          0.0     1283.0         371.0   \n",
       "4     0004_01          0  16.0    0        303.0       70.0         151.0   \n",
       "\n",
       "      Spa  VRDeck  Transported  ...  is_travelling_in_group  Age_bucket  \\\n",
       "0     0.0     0.0        False  ...                   False        30.0   \n",
       "1   549.0    44.0         True  ...                   False        20.0   \n",
       "2  6715.0    49.0        False  ...                    True        50.0   \n",
       "3  3329.0   193.0        False  ...                    True        30.0   \n",
       "4   565.0     2.0         True  ...                   False        10.0   \n",
       "\n",
       "   HomePlanet_Orig  Destination_Orig  HomePlanet_Earth  HomePlanet_Europa  \\\n",
       "0           Europa       TRAPPIST-1e             False               True   \n",
       "1            Earth       TRAPPIST-1e              True              False   \n",
       "2           Europa       TRAPPIST-1e             False               True   \n",
       "3           Europa       TRAPPIST-1e             False               True   \n",
       "4            Earth       TRAPPIST-1e              True              False   \n",
       "\n",
       "   HomePlanet_Mars  Destination_55 Cancri e  Destination_PSO J318.5-22  \\\n",
       "0            False                    False                      False   \n",
       "1            False                    False                      False   \n",
       "2            False                    False                      False   \n",
       "3            False                    False                      False   \n",
       "4            False                    False                      False   \n",
       "\n",
       "  Destination_TRAPPIST-1e  \n",
       "0                    True  \n",
       "1                    True  \n",
       "2                    True  \n",
       "3                    True  \n",
       "4                    True  \n",
       "\n",
       "[5 rows x 27 columns]"
      ]
     },
     "execution_count": 5,
     "metadata": {},
     "output_type": "execute_result"
    }
   ],
   "source": [
    "df.head()"
   ]
  },
  {
   "cell_type": "markdown",
   "metadata": {},
   "source": [
    "# Data Analyse"
   ]
  },
  {
   "cell_type": "code",
   "execution_count": 6,
   "metadata": {},
   "outputs": [
    {
     "data": {
      "text/html": [
       "<div>\n",
       "<style scoped>\n",
       "    .dataframe tbody tr th:only-of-type {\n",
       "        vertical-align: middle;\n",
       "    }\n",
       "\n",
       "    .dataframe tbody tr th {\n",
       "        vertical-align: top;\n",
       "    }\n",
       "\n",
       "    .dataframe thead th {\n",
       "        text-align: right;\n",
       "    }\n",
       "</style>\n",
       "<table border=\"1\" class=\"dataframe\">\n",
       "  <thead>\n",
       "    <tr style=\"text-align: right;\">\n",
       "      <th></th>\n",
       "      <th>CryoSleep</th>\n",
       "      <th>Age</th>\n",
       "      <th>VIP</th>\n",
       "      <th>RoomService</th>\n",
       "      <th>FoodCourt</th>\n",
       "      <th>ShoppingMall</th>\n",
       "      <th>Spa</th>\n",
       "      <th>VRDeck</th>\n",
       "      <th>TicketId</th>\n",
       "      <th>InvidualId</th>\n",
       "      <th>Deck</th>\n",
       "      <th>Num</th>\n",
       "      <th>Side</th>\n",
       "      <th>Num_bucket</th>\n",
       "      <th>Total spendings</th>\n",
       "      <th>Age_bucket</th>\n",
       "    </tr>\n",
       "  </thead>\n",
       "  <tbody>\n",
       "    <tr>\n",
       "      <th>count</th>\n",
       "      <td>8689.000000</td>\n",
       "      <td>8689.000000</td>\n",
       "      <td>8689.000000</td>\n",
       "      <td>8689.000000</td>\n",
       "      <td>8689.000000</td>\n",
       "      <td>8689.000000</td>\n",
       "      <td>8689.000000</td>\n",
       "      <td>8689.000000</td>\n",
       "      <td>8689.000000</td>\n",
       "      <td>8689.000000</td>\n",
       "      <td>8689.000000</td>\n",
       "      <td>8689.000000</td>\n",
       "      <td>8689.000000</td>\n",
       "      <td>8689.000000</td>\n",
       "      <td>8689.000000</td>\n",
       "      <td>8689.000000</td>\n",
       "    </tr>\n",
       "    <tr>\n",
       "      <th>mean</th>\n",
       "      <td>0.363103</td>\n",
       "      <td>28.742088</td>\n",
       "      <td>0.023478</td>\n",
       "      <td>217.478891</td>\n",
       "      <td>443.144223</td>\n",
       "      <td>168.290769</td>\n",
       "      <td>302.154114</td>\n",
       "      <td>295.075175</td>\n",
       "      <td>4633.370008</td>\n",
       "      <td>1.518011</td>\n",
       "      <td>4.299689</td>\n",
       "      <td>600.086546</td>\n",
       "      <td>0.504891</td>\n",
       "      <td>551.570952</td>\n",
       "      <td>1407.069858</td>\n",
       "      <td>24.320405</td>\n",
       "    </tr>\n",
       "    <tr>\n",
       "      <th>std</th>\n",
       "      <td>0.480922</td>\n",
       "      <td>14.365433</td>\n",
       "      <td>0.151425</td>\n",
       "      <td>651.119099</td>\n",
       "      <td>1581.436928</td>\n",
       "      <td>595.686589</td>\n",
       "      <td>1118.029906</td>\n",
       "      <td>1122.724452</td>\n",
       "      <td>2671.356444</td>\n",
       "      <td>1.054425</td>\n",
       "      <td>1.780470</td>\n",
       "      <td>512.107590</td>\n",
       "      <td>0.500005</td>\n",
       "      <td>511.452750</td>\n",
       "      <td>2788.444311</td>\n",
       "      <td>14.401072</td>\n",
       "    </tr>\n",
       "    <tr>\n",
       "      <th>min</th>\n",
       "      <td>0.000000</td>\n",
       "      <td>0.000000</td>\n",
       "      <td>0.000000</td>\n",
       "      <td>0.000000</td>\n",
       "      <td>0.000000</td>\n",
       "      <td>0.000000</td>\n",
       "      <td>0.000000</td>\n",
       "      <td>0.000000</td>\n",
       "      <td>1.000000</td>\n",
       "      <td>1.000000</td>\n",
       "      <td>0.000000</td>\n",
       "      <td>0.000000</td>\n",
       "      <td>0.000000</td>\n",
       "      <td>0.000000</td>\n",
       "      <td>0.000000</td>\n",
       "      <td>0.000000</td>\n",
       "    </tr>\n",
       "    <tr>\n",
       "      <th>25%</th>\n",
       "      <td>0.000000</td>\n",
       "      <td>20.000000</td>\n",
       "      <td>0.000000</td>\n",
       "      <td>0.000000</td>\n",
       "      <td>0.000000</td>\n",
       "      <td>0.000000</td>\n",
       "      <td>0.000000</td>\n",
       "      <td>0.000000</td>\n",
       "      <td>2318.000000</td>\n",
       "      <td>1.000000</td>\n",
       "      <td>3.000000</td>\n",
       "      <td>167.000000</td>\n",
       "      <td>0.000000</td>\n",
       "      <td>100.000000</td>\n",
       "      <td>0.000000</td>\n",
       "      <td>20.000000</td>\n",
       "    </tr>\n",
       "    <tr>\n",
       "      <th>50%</th>\n",
       "      <td>0.000000</td>\n",
       "      <td>27.000000</td>\n",
       "      <td>0.000000</td>\n",
       "      <td>0.000000</td>\n",
       "      <td>0.000000</td>\n",
       "      <td>0.000000</td>\n",
       "      <td>0.000000</td>\n",
       "      <td>0.000000</td>\n",
       "      <td>4631.000000</td>\n",
       "      <td>1.000000</td>\n",
       "      <td>5.000000</td>\n",
       "      <td>426.000000</td>\n",
       "      <td>1.000000</td>\n",
       "      <td>400.000000</td>\n",
       "      <td>703.000000</td>\n",
       "      <td>20.000000</td>\n",
       "    </tr>\n",
       "    <tr>\n",
       "      <th>75%</th>\n",
       "      <td>1.000000</td>\n",
       "      <td>37.000000</td>\n",
       "      <td>0.000000</td>\n",
       "      <td>48.000000</td>\n",
       "      <td>77.000000</td>\n",
       "      <td>27.000000</td>\n",
       "      <td>62.000000</td>\n",
       "      <td>49.000000</td>\n",
       "      <td>6883.000000</td>\n",
       "      <td>2.000000</td>\n",
       "      <td>6.000000</td>\n",
       "      <td>998.000000</td>\n",
       "      <td>1.000000</td>\n",
       "      <td>900.000000</td>\n",
       "      <td>1388.000000</td>\n",
       "      <td>30.000000</td>\n",
       "    </tr>\n",
       "    <tr>\n",
       "      <th>max</th>\n",
       "      <td>1.000000</td>\n",
       "      <td>79.000000</td>\n",
       "      <td>1.000000</td>\n",
       "      <td>14327.000000</td>\n",
       "      <td>29813.000000</td>\n",
       "      <td>23492.000000</td>\n",
       "      <td>22408.000000</td>\n",
       "      <td>24133.000000</td>\n",
       "      <td>9280.000000</td>\n",
       "      <td>8.000000</td>\n",
       "      <td>7.000000</td>\n",
       "      <td>1894.000000</td>\n",
       "      <td>1.000000</td>\n",
       "      <td>1800.000000</td>\n",
       "      <td>35987.000000</td>\n",
       "      <td>70.000000</td>\n",
       "    </tr>\n",
       "  </tbody>\n",
       "</table>\n",
       "</div>"
      ],
      "text/plain": [
       "         CryoSleep          Age          VIP   RoomService     FoodCourt  \\\n",
       "count  8689.000000  8689.000000  8689.000000   8689.000000   8689.000000   \n",
       "mean      0.363103    28.742088     0.023478    217.478891    443.144223   \n",
       "std       0.480922    14.365433     0.151425    651.119099   1581.436928   \n",
       "min       0.000000     0.000000     0.000000      0.000000      0.000000   \n",
       "25%       0.000000    20.000000     0.000000      0.000000      0.000000   \n",
       "50%       0.000000    27.000000     0.000000      0.000000      0.000000   \n",
       "75%       1.000000    37.000000     0.000000     48.000000     77.000000   \n",
       "max       1.000000    79.000000     1.000000  14327.000000  29813.000000   \n",
       "\n",
       "       ShoppingMall           Spa        VRDeck     TicketId   InvidualId  \\\n",
       "count   8689.000000   8689.000000   8689.000000  8689.000000  8689.000000   \n",
       "mean     168.290769    302.154114    295.075175  4633.370008     1.518011   \n",
       "std      595.686589   1118.029906   1122.724452  2671.356444     1.054425   \n",
       "min        0.000000      0.000000      0.000000     1.000000     1.000000   \n",
       "25%        0.000000      0.000000      0.000000  2318.000000     1.000000   \n",
       "50%        0.000000      0.000000      0.000000  4631.000000     1.000000   \n",
       "75%       27.000000     62.000000     49.000000  6883.000000     2.000000   \n",
       "max    23492.000000  22408.000000  24133.000000  9280.000000     8.000000   \n",
       "\n",
       "              Deck          Num         Side   Num_bucket  Total spendings  \\\n",
       "count  8689.000000  8689.000000  8689.000000  8689.000000      8689.000000   \n",
       "mean      4.299689   600.086546     0.504891   551.570952      1407.069858   \n",
       "std       1.780470   512.107590     0.500005   511.452750      2788.444311   \n",
       "min       0.000000     0.000000     0.000000     0.000000         0.000000   \n",
       "25%       3.000000   167.000000     0.000000   100.000000         0.000000   \n",
       "50%       5.000000   426.000000     1.000000   400.000000       703.000000   \n",
       "75%       6.000000   998.000000     1.000000   900.000000      1388.000000   \n",
       "max       7.000000  1894.000000     1.000000  1800.000000     35987.000000   \n",
       "\n",
       "        Age_bucket  \n",
       "count  8689.000000  \n",
       "mean     24.320405  \n",
       "std      14.401072  \n",
       "min       0.000000  \n",
       "25%      20.000000  \n",
       "50%      20.000000  \n",
       "75%      30.000000  \n",
       "max      70.000000  "
      ]
     },
     "execution_count": 6,
     "metadata": {},
     "output_type": "execute_result"
    }
   ],
   "source": [
    "df.describe()"
   ]
  },
  {
   "cell_type": "code",
   "execution_count": 7,
   "metadata": {},
   "outputs": [
    {
     "data": {
      "text/plain": [
       "RoomService                 -0.240535\n",
       "Spa                         -0.216606\n",
       "VRDeck                      -0.202352\n",
       "Total spendings             -0.195489\n",
       "HomePlanet_Earth            -0.168670\n",
       "Deck                        -0.116973\n",
       "Destination_TRAPPIST-1e     -0.096133\n",
       "Age                         -0.073249\n",
       "Age_bucket                  -0.071778\n",
       "Num                         -0.046843\n",
       "Num_bucket                  -0.045605\n",
       "VIP                         -0.037645\n",
       "Destination_PSO J318.5-22    0.002343\n",
       "ShoppingMall                 0.009168\n",
       "HomePlanet_Mars              0.018315\n",
       "TicketId                     0.021237\n",
       "FoodCourt                    0.043328\n",
       "InvidualId                   0.066294\n",
       "Side                         0.102248\n",
       "Destination_55 Cancri e      0.106784\n",
       "is_travelling_in_group       0.113629\n",
       "HomePlanet_Europa            0.176726\n",
       "CryoSleep                    0.444048\n",
       "Transported                  1.000000\n",
       "dtype: float64"
      ]
     },
     "execution_count": 7,
     "metadata": {},
     "output_type": "execute_result"
    }
   ],
   "source": [
    "df.select_dtypes(exclude=object).corrwith(df[\"Transported\"]).sort_values()"
   ]
  },
  {
   "cell_type": "markdown",
   "metadata": {},
   "source": [
    "Firstly, people in Cryosleep were much more likely to survive."
   ]
  },
  {
   "cell_type": "code",
   "execution_count": 8,
   "metadata": {},
   "outputs": [
    {
     "name": "stdout",
     "output_type": "stream",
     "text": [
      "CryoSleep  Transported\n",
      "0          False          3674\n",
      "           True           1860\n",
      "1          True           2517\n",
      "           False           638\n",
      "Name: count, dtype: int64\n"
     ]
    },
    {
     "data": {
      "text/plain": [
       "<Axes: xlabel='CryoSleep', ylabel='count'>"
      ]
     },
     "execution_count": 8,
     "metadata": {},
     "output_type": "execute_result"
    },
    {
     "data": {
      "image/png": "[encoded data removed]",
      "text/plain": [
       "<Figure size 640x480 with 1 Axes>"
      ]
     },
     "metadata": {},
     "output_type": "display_data"
    }
   ],
   "source": [
    "print(df.groupby(\"CryoSleep\")[\"Transported\"].value_counts())\n",
    "sns.countplot(x=\"CryoSleep\", hue=\"Transported\", data=df)"
   ]
  },
  {
   "cell_type": "code",
   "execution_count": 9,
   "metadata": {},
   "outputs": [
    {
     "data": {
      "text/plain": [
       "<Axes: xlabel='HomePlanet_Orig', ylabel='count'>"
      ]
     },
     "execution_count": 9,
     "metadata": {},
     "output_type": "execute_result"
    },
    {
     "data": {
      "image/png": "[encoded data removed]",
      "text/plain": [
       "<Figure size 640x480 with 1 Axes>"
      ]
     },
     "metadata": {},
     "output_type": "display_data"
    }
   ],
   "source": [
    "sns.countplot(x=\"HomePlanet_Orig\", hue=\"Transported\", data=df)"
   ]
  },
  {
   "cell_type": "code",
   "execution_count": 10,
   "metadata": {},
   "outputs": [
    {
     "data": {
      "image/png": "[encoded data removed]",
      "text/plain": [
       "<Figure size 640x480 with 1 Axes>"
      ]
     },
     "metadata": {},
     "output_type": "display_data"
    }
   ],
   "source": [
    "ax = sns.countplot(x=\"Deck\", hue=\"Transported\", data=df, legend=True)\n",
    "sns.move_legend(ax, \"upper left\")"
   ]
  },
  {
   "cell_type": "code",
   "execution_count": 11,
   "metadata": {},
   "outputs": [
    {
     "data": {
      "image/png": "[encoded data removed]",
      "text/plain": [
       "<Figure size 640x480 with 2 Axes>"
      ]
     },
     "metadata": {},
     "output_type": "display_data"
    }
   ],
   "source": [
    "fig, ax = plt.subplots(1, 2)\n",
    "\n",
    "sns.countplot(x=\"Deck\", hue=\"Transported\", data=df[df[\"CryoSleep\"] == True], legend=True, ax=ax[0]).set(title='CryoSleep == True')\n",
    "sns.move_legend(ax[0], \"upper left\")\n",
    "\n",
    "sns.countplot(x=\"Deck\", hue=\"Transported\", data=df[df[\"CryoSleep\"] == False], legend=True, ax=ax[1]).set(title='CryoSleep == False')\n",
    "sns.move_legend(ax[1], \"upper left\")"
   ]
  },
  {
   "cell_type": "markdown",
   "metadata": {},
   "source": [
    "I've already knew, that people in Cryosleep were more likely to survive. Although, on decks 0-3 (actually A-D) almost none of of those people died (maybe evacuation started on higher decks??)"
   ]
  },
  {
   "cell_type": "code",
   "execution_count": 12,
   "metadata": {},
   "outputs": [
    {
     "data": {
      "text/plain": [
       "<Axes: xlabel='Age', ylabel='Count'>"
      ]
     },
     "execution_count": 12,
     "metadata": {},
     "output_type": "execute_result"
    },
    {
     "data": {
      "image/png": "[encoded data removed]",
      "text/plain": [
       "<Figure size 640x480 with 1 Axes>"
      ]
     },
     "metadata": {},
     "output_type": "display_data"
    }
   ],
   "source": [
    "sns.histplot(x=\"Age\", hue=\"Transported\", data=df, legend=True)"
   ]
  },
  {
   "cell_type": "code",
   "execution_count": 13,
   "metadata": {},
   "outputs": [
    {
     "data": {
      "text/plain": [
       "Transported\n",
       "True     0.629773\n",
       "False    0.370227\n",
       "Name: proportion, dtype: float64"
      ]
     },
     "execution_count": 13,
     "metadata": {},
     "output_type": "execute_result"
    }
   ],
   "source": [
    "df[df[\"Age\"] < 18][\"Transported\"].value_counts(normalize=True)"
   ]
  },
  {
   "cell_type": "markdown",
   "metadata": {},
   "source": [
    "Age doesn't seem to be so important factor, excluding fact, that 63% of children were saved."
   ]
  },
  {
   "cell_type": "code",
   "execution_count": 14,
   "metadata": {},
   "outputs": [
    {
     "data": {
      "text/plain": [
       "<Axes: xlabel='Destination_Orig', ylabel='count'>"
      ]
     },
     "execution_count": 14,
     "metadata": {},
     "output_type": "execute_result"
    },
    {
     "data": {
      "image/png": "[encoded data removed]",
      "text/plain": [
       "<Figure size 640x480 with 1 Axes>"
      ]
     },
     "metadata": {},
     "output_type": "display_data"
    }
   ],
   "source": [
    "sns.countplot(x=\"Destination_Orig\", hue=\"Transported\", data=df)"
   ]
  },
  {
   "cell_type": "markdown",
   "metadata": {},
   "source": [
    "I think that Home Planet is much more important than destination. As I found out in data_engineering notebook, passenger's deck is correlated with their home planet. We can clearly see, that higher decks (without passengers from Earth) have higher survivability rate. On the other hand, destinations of passenger are more randomly distributed among decks, so it doesn't have so big impact on survivability."
   ]
  },
  {
   "cell_type": "code",
   "execution_count": 15,
   "metadata": {},
   "outputs": [
    {
     "data": {
      "image/png": "[encoded data removed]",
      "text/plain": [
       "<Figure size 640x480 with 1 Axes>"
      ]
     },
     "metadata": {},
     "output_type": "display_data"
    }
   ],
   "source": [
    "g = sns.histplot(x=\"Total spendings\", hue=\"Transported\", data=df[df[\"Total spendings\"] > 0], legend=True, binwidth=1000)\n",
    "g.axes.set_yscale('log')"
   ]
  },
  {
   "cell_type": "markdown",
   "metadata": {},
   "source": [
    "Suprisingly, rich passengers didn't have bigger chances to survive. Actually, people who spend 0 had the highest survavibility rate - many of them were in cryosleep though."
   ]
  },
  {
   "cell_type": "code",
   "execution_count": 16,
   "metadata": {},
   "outputs": [
    {
     "data": {
      "text/plain": [
       "<Axes: xlabel='Side', ylabel='count'>"
      ]
     },
     "execution_count": 16,
     "metadata": {},
     "output_type": "execute_result"
    },
    {
     "data": {
      "image/png": "[encoded data removed]",
      "text/plain": [
       "<Figure size 640x480 with 1 Axes>"
      ]
     },
     "metadata": {},
     "output_type": "display_data"
    }
   ],
   "source": [
    "sns.countplot(x=\"Side\", hue=\"Transported\", data=df)"
   ]
  },
  {
   "cell_type": "code",
   "execution_count": 17,
   "metadata": {},
   "outputs": [
    {
     "data": {
      "text/plain": [
       "<Axes: xlabel='Num', ylabel='Count'>"
      ]
     },
     "execution_count": 17,
     "metadata": {},
     "output_type": "execute_result"
    },
    {
     "data": {
      "image/png": "[encoded data removed]",
      "text/plain": [
       "<Figure size 640x480 with 1 Axes>"
      ]
     },
     "metadata": {},
     "output_type": "display_data"
    }
   ],
   "source": [
    "sns.histplot(x=\"Num\", hue=\"Transported\", data=df, binwidth=50)"
   ]
  },
  {
   "cell_type": "code",
   "execution_count": 18,
   "metadata": {},
   "outputs": [
    {
     "name": "stderr",
     "output_type": "stream",
     "text": [
      "C:\\Users\\Marcin\\AppData\\Local\\Temp\\ipykernel_12196\\3220369322.py:1: FutureWarning: The provided callable <built-in function min> is currently using SeriesGroupBy.min. In a future version of pandas, the provided callable will be used directly. To keep current behavior pass the string \"min\" instead.\n",
      "  df.groupby(\"Deck\")[\"Num\"].aggregate([min, max])\n",
      "C:\\Users\\Marcin\\AppData\\Local\\Temp\\ipykernel_12196\\3220369322.py:1: FutureWarning: The provided callable <built-in function max> is currently using SeriesGroupBy.max. In a future version of pandas, the provided callable will be used directly. To keep current behavior pass the string \"max\" instead.\n",
      "  df.groupby(\"Deck\")[\"Num\"].aggregate([min, max])\n"
     ]
    },
    {
     "data": {
      "text/html": [
       "<div>\n",
       "<style scoped>\n",
       "    .dataframe tbody tr th:only-of-type {\n",
       "        vertical-align: middle;\n",
       "    }\n",
       "\n",
       "    .dataframe tbody tr th {\n",
       "        vertical-align: top;\n",
       "    }\n",
       "\n",
       "    .dataframe thead th {\n",
       "        text-align: right;\n",
       "    }\n",
       "</style>\n",
       "<table border=\"1\" class=\"dataframe\">\n",
       "  <thead>\n",
       "    <tr style=\"text-align: right;\">\n",
       "      <th></th>\n",
       "      <th>min</th>\n",
       "      <th>max</th>\n",
       "    </tr>\n",
       "    <tr>\n",
       "      <th>Deck</th>\n",
       "      <th></th>\n",
       "      <th></th>\n",
       "    </tr>\n",
       "  </thead>\n",
       "  <tbody>\n",
       "    <tr>\n",
       "      <th>0</th>\n",
       "      <td>0</td>\n",
       "      <td>107</td>\n",
       "    </tr>\n",
       "    <tr>\n",
       "      <th>1</th>\n",
       "      <td>0</td>\n",
       "      <td>353</td>\n",
       "    </tr>\n",
       "    <tr>\n",
       "      <th>2</th>\n",
       "      <td>0</td>\n",
       "      <td>342</td>\n",
       "    </tr>\n",
       "    <tr>\n",
       "      <th>3</th>\n",
       "      <td>0</td>\n",
       "      <td>295</td>\n",
       "    </tr>\n",
       "    <tr>\n",
       "      <th>4</th>\n",
       "      <td>0</td>\n",
       "      <td>608</td>\n",
       "    </tr>\n",
       "    <tr>\n",
       "      <th>5</th>\n",
       "      <td>0</td>\n",
       "      <td>1894</td>\n",
       "    </tr>\n",
       "    <tr>\n",
       "      <th>6</th>\n",
       "      <td>0</td>\n",
       "      <td>1508</td>\n",
       "    </tr>\n",
       "    <tr>\n",
       "      <th>7</th>\n",
       "      <td>0</td>\n",
       "      <td>3</td>\n",
       "    </tr>\n",
       "  </tbody>\n",
       "</table>\n",
       "</div>"
      ],
      "text/plain": [
       "      min   max\n",
       "Deck           \n",
       "0       0   107\n",
       "1       0   353\n",
       "2       0   342\n",
       "3       0   295\n",
       "4       0   608\n",
       "5       0  1894\n",
       "6       0  1508\n",
       "7       0     3"
      ]
     },
     "execution_count": 18,
     "metadata": {},
     "output_type": "execute_result"
    }
   ],
   "source": [
    "df.groupby(\"Deck\")[\"Num\"].aggregate([min, max])"
   ]
  },
  {
   "cell_type": "markdown",
   "metadata": {},
   "source": [
    "Number of room has some important information. In range 0-300 survivability is bigger, because small numbers on room exists on every deck. On higher decks survivability was bigger, so it's pretty good explanation for that. Though I can't see any cause, that survivability was bigger in num range 750-1100. "
   ]
  },
  {
   "cell_type": "code",
   "execution_count": 19,
   "metadata": {},
   "outputs": [
    {
     "data": {
      "text/plain": [
       "<Axes: xlabel='is_travelling_in_group', ylabel='count'>"
      ]
     },
     "execution_count": 19,
     "metadata": {},
     "output_type": "execute_result"
    },
    {
     "data": {
      "image/png": "[encoded data removed]",
      "text/plain": [
       "<Figure size 640x480 with 1 Axes>"
      ]
     },
     "metadata": {},
     "output_type": "display_data"
    }
   ],
   "source": [
    "sns.countplot(x=\"is_travelling_in_group\", hue=\"Transported\", data=df)"
   ]
  },
  {
   "cell_type": "code",
   "execution_count": 20,
   "metadata": {},
   "outputs": [
    {
     "data": {
      "image/png": "[encoded data removed]",
      "text/plain": [
       "<Figure size 1500x1500 with 6 Axes>"
      ]
     },
     "metadata": {},
     "output_type": "display_data"
    }
   ],
   "source": [
    "fig, ax = plt.subplots(2, 3, figsize=(15, 15))\n",
    "i = 0\n",
    "\n",
    "expenses_columns = [\"RoomService\", \"FoodCourt\", \"ShoppingMall\", \"Spa\", \"VRDeck\"]\n",
    "\n",
    "for col in expenses_columns:\n",
    "    sns.histplot(x=col, hue=\"Transported\", data=df[df[col] >= 0], legend=True, binwidth=1000, ax=ax[i%2][i%3]).set(title=col)\n",
    "    ax[i%2][i%3].set_yscale('log')\n",
    "    i += 1"
   ]
  },
  {
   "cell_type": "markdown",
   "metadata": {},
   "source": [
    "### Calculating feature importance\n",
    "\n",
    "https://machinelearningmastery.com/feature-selection-machine-learning-python/"
   ]
  },
  {
   "cell_type": "code",
   "execution_count": 21,
   "metadata": {},
   "outputs": [
    {
     "name": "stdout",
     "output_type": "stream",
     "text": [
      "[2.13359048e+03 4.68606502e+01 1.23280870e+01 5.33470524e+02\n",
      " 1.63388314e+01 7.30150961e-01 4.27641668e+02 3.70886415e+02\n",
      " 3.91985648e+00 3.83472382e+01 1.20510769e+02 1.91035166e+01\n",
      " 9.17788088e+01 1.81050590e+01 3.45174307e+02 1.13629898e+02\n",
      " 4.49873830e+01 2.54378847e+02 2.80059493e+02 2.91501067e+00\n",
      " 1.00198012e+02 4.76927194e-02 8.10306890e+01]\n"
     ]
    }
   ],
   "source": [
    "X = df.drop(columns=\"Transported\").select_dtypes(exclude=object)\n",
    "y = df[\"Transported\"]\n",
    "\n",
    "test = SelectKBest(score_func=f_classif, k=4)\n",
    "fit = test.fit(X, y)\n",
    "# summarize scores\n",
    "print(fit.scores_)\n",
    "features = fit.transform(X)"
   ]
  },
  {
   "cell_type": "code",
   "execution_count": 22,
   "metadata": {},
   "outputs": [
    {
     "data": {
      "text/plain": [
       "[(2133.5904791096373, 'CryoSleep'),\n",
       " (533.4705236468603, 'RoomService'),\n",
       " (427.641668209784, 'Spa'),\n",
       " (370.8864152039498, 'VRDeck'),\n",
       " (345.17430713188725, 'Total spendings'),\n",
       " (280.05949269230086, 'HomePlanet_Europa'),\n",
       " (254.37884727719398, 'HomePlanet_Earth'),\n",
       " (120.51076919981327, 'Deck'),\n",
       " (113.62989766490999, 'is_travelling_in_group'),\n",
       " (100.19801181754842, 'Destination_55 Cancri e'),\n",
       " (91.77880875791242, 'Side'),\n",
       " (81.03068897690602, 'Destination_TRAPPIST-1e'),\n",
       " (46.86065021594419, 'Age'),\n",
       " (44.987382983636614, 'Age_bucket'),\n",
       " (38.34723822829941, 'InvidualId'),\n",
       " (19.10351655091006, 'Num'),\n",
       " (18.105058968001455, 'Num_bucket'),\n",
       " (16.338831406659033, 'FoodCourt'),\n",
       " (12.328086979445207, 'VIP'),\n",
       " (3.919856476002795, 'TicketId'),\n",
       " (2.915010668649771, 'HomePlanet_Mars'),\n",
       " (0.730150961090615, 'ShoppingMall'),\n",
       " (0.04769271935461321, 'Destination_PSO J318.5-22')]"
      ]
     },
     "execution_count": 22,
     "metadata": {},
     "output_type": "execute_result"
    }
   ],
   "source": [
    "features_importance = list(zip(fit.scores_, X.columns))\n",
    "features_importance.sort(key=lambda x: x[0], reverse=True)\n",
    "features_importance"
   ]
  },
  {
   "cell_type": "markdown",
   "metadata": {},
   "source": [
    "### Choose variables\n",
    "I calculated feature importance using SelectKBase. The highest score had CryoSleep column. This is consistent with my analysis. Next highest columns are some kind of expenses. I didn't find those columns important by myself. Only some columns describing home and destination plant were rated high. It seems OK for me, because I found myself that for some of those distribution of survivability is rather even.\n",
    "\n",
    "After calculating feature importance and doing my own analysis, I chosed variables to pass to ML algorithms. Those are:\n",
    "- CryoSleep\n",
    "- Num\n",
    "- Side\n",
    "- Deck\n",
    "- HomePlanet_Europa\n",
    "- HomePlanet_Earth\n",
    "- Age\n",
    "- is_travelling_in_group \n",
    "- Total spendings\n",
    "\n",
    "I also prepare second set of columns, that consist of all of the above and RoomService, Spa and VRDeck columns "
   ]
  },
  {
   "cell_type": "code",
   "execution_count": 11,
   "metadata": {},
   "outputs": [],
   "source": [
    "df_a = df[[\"CryoSleep\", \"Num\", \"Side\", \"Deck\", \"HomePlanet_Europa\", \"HomePlanet_Earth\", \n",
    "          \"Age\", \"is_travelling_in_group\", \"Total spendings\", \"Transported\"]].sample(frac=1).reset_index(drop=True)\n",
    "df_b = df[[\"CryoSleep\", \"Num\", \"Side\", \"Deck\", \"HomePlanet_Europa\", \"HomePlanet_Earth\", \"Age\", \"is_travelling_in_group\", \"Total spendings\",\n",
    "                 \"Spa\", \"RoomService\", \"VRDeck\", \"Transported\"]].sample(frac=1).reset_index(drop=True)"
   ]
  },
  {
   "cell_type": "code",
   "execution_count": 12,
   "metadata": {},
   "outputs": [],
   "source": [
    "y_a = df_a[\"Transported\"]\n",
    "X_a = df_a.drop(columns=[\"Transported\"])\n",
    "\n",
    "y_b = df_b[\"Transported\"]\n",
    "X_b = df_b.drop(columns=[\"Transported\"])"
   ]
  },
  {
   "cell_type": "markdown",
   "metadata": {},
   "source": [
    "# Predictions - stage 1\n",
    "\n",
    "Here I'm gonna compare some classification algorithms on my data. For stage 2 I want to choose:\n",
    "- the best algorithm\n",
    "- the best set of columns\n",
    "\n",
    "I'm gonna compare some selected algorithms using cross-validation technique."
   ]
  },
  {
   "cell_type": "code",
   "execution_count": 25,
   "metadata": {},
   "outputs": [],
   "source": [
    "warnings.filterwarnings('ignore') "
   ]
  },
  {
   "cell_type": "code",
   "execution_count": 26,
   "metadata": {},
   "outputs": [],
   "source": [
    "classifiers = [\n",
    "    KNeighborsClassifier(n_neighbors=5),\n",
    "    SVC(random_state=1),\n",
    "    LinearSVC(random_state=1),\n",
    "    GaussianNB(),\n",
    "    DecisionTreeClassifier(),\n",
    "    AdaBoostClassifier(),\n",
    "    RandomForestClassifier(),\n",
    "    SGDClassifier(),\n",
    "    LogisticRegression()\n",
    "]"
   ]
  },
  {
   "cell_type": "markdown",
   "metadata": {},
   "source": [
    "Calculation with A set of columns"
   ]
  },
  {
   "cell_type": "code",
   "execution_count": 27,
   "metadata": {},
   "outputs": [],
   "source": [
    "np.random.seed(7777)"
   ]
  },
  {
   "cell_type": "code",
   "execution_count": 28,
   "metadata": {},
   "outputs": [
    {
     "name": "stdout",
     "output_type": "stream",
     "text": [
      "KNeighborsClassifier. \n",
      "Mean score: 0.6878. Min score: 0.6793. Max score: 0.6939.\n",
      "Time: 0.31200098991394043s\n",
      "\n",
      "SVC. \n",
      "Mean score: 0.7279. Min score: 0.7168. Max score: 0.7365.\n",
      "Time: 6.820527076721191s\n",
      "\n",
      "LinearSVC. \n",
      "Mean score: 0.4961. Min score: 0.3734. Max score: 0.6128.\n",
      "Time: 1.100728988647461s\n",
      "\n",
      "GaussianNB. \n",
      "Mean score: 0.7120. Min score: 0.6997. Max score: 0.7209.\n",
      "Time: 0.02000141143798828s\n",
      "\n",
      "DecisionTreeClassifier. \n",
      "Mean score: 0.6795. Min score: 0.6640. Max score: 0.6979.\n",
      "Time: 0.1529998779296875s\n",
      "\n",
      "AdaBoostClassifier. \n",
      "Mean score: 0.7344. Min score: 0.7237. Max score: 0.7422.\n",
      "Time: 1.058051586151123s\n",
      "\n",
      "RandomForestClassifier. \n",
      "Mean score: 0.7317. Min score: 0.7116. Max score: 0.7509.\n",
      "Time: 4.498141288757324s\n",
      "\n",
      "SGDClassifier. \n",
      "Mean score: 0.7055. Min score: 0.6851. Max score: 0.7399.\n",
      "Time: 0.12399816513061523s\n",
      "\n",
      "LogisticRegression. \n",
      "Mean score: 0.7200. Min score: 0.7100. Max score: 0.7267.\n",
      "Time: 0.2138807773590088s\n",
      "\n"
     ]
    }
   ],
   "source": [
    "X = X_a\n",
    "y = y_a\n",
    "for clf in classifiers:\n",
    "    start = time.time()\n",
    "    score = cross_val_score(clf, X, y, cv=5)\n",
    "    stop = time.time()\n",
    "    print(f\"{clf.__class__.__name__}. \\nMean score: {score.mean():.4f}. Min score: {score.min():.4f}. Max score: {score.max():.4f}.\")\n",
    "    print(f\"Time: {stop-start}s\")\n",
    "    print()"
   ]
  },
  {
   "cell_type": "markdown",
   "metadata": {},
   "source": [
    "Calculation with B set of columns"
   ]
  },
  {
   "cell_type": "code",
   "execution_count": 13,
   "metadata": {},
   "outputs": [],
   "source": [
    "X = X_b\n",
    "y = y_b"
   ]
  },
  {
   "cell_type": "code",
   "execution_count": 29,
   "metadata": {},
   "outputs": [
    {
     "name": "stdout",
     "output_type": "stream",
     "text": [
      "KNeighborsClassifier. \n",
      "Mean score: 0.7611. Min score: 0.7555. Max score: 0.7675.\n",
      "Time: 0.36099958419799805s\n",
      "\n",
      "SVC. \n",
      "Mean score: 0.7836. Min score: 0.7756. Max score: 0.7917.\n",
      "Time: 5.6963396072387695s\n",
      "\n",
      "LinearSVC. \n",
      "Mean score: 0.6682. Min score: 0.6126. Max score: 0.7497.\n",
      "Time: 1.2138004302978516s\n",
      "\n",
      "GaussianNB. \n",
      "Mean score: 0.6790. Min score: 0.6701. Max score: 0.6824.\n",
      "Time: 0.019001483917236328s\n",
      "\n",
      "DecisionTreeClassifier. \n",
      "Mean score: 0.7313. Min score: 0.7227. Max score: 0.7394.\n",
      "Time: 0.18563556671142578s\n",
      "\n",
      "AdaBoostClassifier. \n",
      "Mean score: 0.7857. Min score: 0.7716. Max score: 0.7962.\n",
      "Time: 1.2571566104888916s\n",
      "\n",
      "RandomForestClassifier. \n",
      "Mean score: 0.7889. Min score: 0.7819. Max score: 0.7963.\n",
      "Time: 4.555629253387451s\n",
      "\n",
      "SGDClassifier. \n",
      "Mean score: 0.7520. Min score: 0.7117. Max score: 0.7917.\n",
      "Time: 0.08899974822998047s\n",
      "\n",
      "LogisticRegression. \n",
      "Mean score: 0.7835. Min score: 0.7704. Max score: 0.7894.\n",
      "Time: 0.23330187797546387s\n",
      "\n"
     ]
    }
   ],
   "source": [
    "for clf in classifiers:\n",
    "    start = time.time()\n",
    "    score = cross_val_score(clf, X, y, cv=5)\n",
    "    stop = time.time()\n",
    "    print(f\"{clf.__class__.__name__}. \\nMean score: {score.mean():.4f}. Min score: {score.min():.4f}. Max score: {score.max():.4f}.\")\n",
    "    print(f\"Time: {stop-start}s\")\n",
    "    print()"
   ]
  },
  {
   "cell_type": "markdown",
   "metadata": {},
   "source": [
    "Conclusions:\n",
    " - Using data from column set B let me achieve higher score\n",
    " - Best algorithms got scores at around 78-79%.\n",
    " - The best score was achieved by RandomForestClassifier classifier. The drawback is long execution time.\n",
    " - SVC achieves very good score, but it tooks even more time to execute.\n",
    " - AdaBoost also had similar score and it works 3-4 times faster.\n",
    " - LogisticRegression algorithm also achieves similar performence and is the fastest among algorithms with score bigger than 78%. It's 4 times faster than AdaBoost.\n",
    " - LinearSVC have very big difference between the worse and the best score in crossvalidation.\n",
    "\n",
    "I choose RandomFosterClassifier, AdaBoostClassifier, SVC and Logistic Regression for further examination.  "
   ]
  },
  {
   "cell_type": "markdown",
   "metadata": {},
   "source": [
    "# Predictions - stage 2\n",
    "I try to find params that let me achieve the highest scores. I choose hyperparamethers to examine mostly by this page: https://machinelearningmastery.com/hyperparameters-for-classification-machine-learning-algorithms/"
   ]
  },
  {
   "cell_type": "code",
   "execution_count": 30,
   "metadata": {},
   "outputs": [],
   "source": [
    "def print_top(search, n):\n",
    "    means = search.cv_results_['mean_test_score']\n",
    "    stds = search.cv_results_['std_test_score']\n",
    "    params = search.cv_results_['params']\n",
    "\n",
    "    means = np.nan_to_num(means)\n",
    "\n",
    "    zipped = sorted(zip(means, stds, params), key=lambda x: x[0], reverse=True)\n",
    "\n",
    "    for m, s, p in zipped[:n]:\n",
    "        print(f\"{m} ({s}) - {p}\")\n"
   ]
  },
  {
   "cell_type": "markdown",
   "metadata": {},
   "source": [
    "### Random Forest"
   ]
  },
  {
   "cell_type": "code",
   "execution_count": 31,
   "metadata": {},
   "outputs": [],
   "source": [
    "clf = RandomForestClassifier()\n",
    "params = dict(\n",
    "    n_estimators=[100, 200, 500],\n",
    "    criterion = [\"gini\", \"entropy\", \"log_loss\"],\n",
    "    max_features = ['sqrt', 'log2', 10, 0.5, None]\n",
    ")\n",
    "cv = RandomizedSearchCV(clf, params, random_state=0)\n",
    "search = cv.fit(X, y)"
   ]
  },
  {
   "cell_type": "code",
   "execution_count": 32,
   "metadata": {},
   "outputs": [
    {
     "data": {
      "text/plain": [
       "0.7898500317664744"
      ]
     },
     "execution_count": 32,
     "metadata": {},
     "output_type": "execute_result"
    }
   ],
   "source": [
    "search.best_score_"
   ]
  },
  {
   "cell_type": "code",
   "execution_count": 33,
   "metadata": {},
   "outputs": [
    {
     "data": {
      "text/plain": [
       "array([0.78754761, 0.78340485, 0.78397983, 0.78950434, 0.78639607,\n",
       "       0.78731693, 0.78536112, 0.78524558, 0.78490036, 0.78985003])"
      ]
     },
     "execution_count": 33,
     "metadata": {},
     "output_type": "execute_result"
    }
   ],
   "source": [
    "search.cv_results_[\"mean_test_score\"]"
   ]
  },
  {
   "cell_type": "code",
   "execution_count": 34,
   "metadata": {},
   "outputs": [
    {
     "name": "stdout",
     "output_type": "stream",
     "text": [
      "0.7898500317664744 (0.00500194540273862) - {'n_estimators': 200, 'max_features': 'sqrt', 'criterion': 'log_loss'}\n",
      "0.7895043436264662 (0.002870305724676197) - {'n_estimators': 200, 'max_features': 'log2', 'criterion': 'gini'}\n",
      "0.7875476083057903 (0.0029552730014429066) - {'n_estimators': 100, 'max_features': 'sqrt', 'criterion': 'log_loss'}\n",
      "0.7873169287152366 (0.0045419491867922076) - {'n_estimators': 200, 'max_features': 0.5, 'criterion': 'entropy'}\n",
      "0.7863960653296259 (0.003068873426667997) - {'n_estimators': 200, 'max_features': 0.5, 'criterion': 'gini'}\n"
     ]
    }
   ],
   "source": [
    "print_top(search, 5)"
   ]
  },
  {
   "cell_type": "code",
   "execution_count": 37,
   "metadata": {},
   "outputs": [
    {
     "name": "stdout",
     "output_type": "stream",
     "text": [
      "0.7920363204419084 (0.007289865473273232) - {'criterion': 'log_loss', 'max_features': 'sqrt'}\n",
      "0.7918060383463413 (0.007190382911425928) - {'criterion': 'log_loss', 'max_features': 'log2'}\n",
      "0.7913455404043718 (0.004197917322238298) - {'criterion': 'gini', 'max_features': 'sqrt'}\n",
      "0.7900799163670548 (0.005682106300751952) - {'criterion': 'gini', 'max_features': 'log2'}\n"
     ]
    }
   ],
   "source": [
    "clf = RandomForestClassifier(n_estimators=200)\n",
    "params = dict(\n",
    "    criterion = [\"gini\", \"log_loss\"],\n",
    "    max_features = ['sqrt', 'log2']\n",
    ")\n",
    "cv = GridSearchCV(clf, params)\n",
    "search = cv.fit(X, y)\n",
    "\n",
    "print_top(search, 5)"
   ]
  },
  {
   "cell_type": "markdown",
   "metadata": {},
   "source": [
    "The best set of parameters: {'n_estimators': 200, 'criterion': 'log_loss', 'max_features': 'sqrt'}"
   ]
  },
  {
   "cell_type": "markdown",
   "metadata": {},
   "source": [
    "### Logistic Regression\n",
    "Because execution time of logistic regression is very fast I was able to perform exhausting grid search. I got best score at around 79%."
   ]
  },
  {
   "cell_type": "code",
   "execution_count": 31,
   "metadata": {},
   "outputs": [],
   "source": [
    "clf = LogisticRegression()\n",
    "params = dict(\n",
    "    solver=[\"newton-cg\", \"lbfgs\", \"liblinear\", \"sag\", \"saga\"],\n",
    "    penalty=[\"none\", \"l1\", \"l2\", \"elasticnet\"],\n",
    "    C=[100, 10, 1, 0.1, 0.01]\n",
    ")\n",
    "cv = GridSearchCV(clf, params, cv=5)\n",
    "search = cv.fit(X, y)"
   ]
  },
  {
   "cell_type": "code",
   "execution_count": 32,
   "metadata": {},
   "outputs": [
    {
     "data": {
      "text/plain": [
       "0.7890437131861676"
      ]
     },
     "execution_count": 32,
     "metadata": {},
     "output_type": "execute_result"
    }
   ],
   "source": [
    "search.best_score_"
   ]
  },
  {
   "cell_type": "code",
   "execution_count": 33,
   "metadata": {},
   "outputs": [
    {
     "name": "stdout",
     "output_type": "stream",
     "text": [
      "0.7890437131861676 (0.00923672550178682) - {'C': 0.01, 'penalty': 'l1', 'solver': 'liblinear'}\n",
      "0.7884681404455786 (0.007534567565072815) - {'C': 0.01, 'penalty': 'l2', 'solver': 'newton-cg'}\n",
      "0.7872019864149463 (0.007038454898849268) - {'C': 0.01, 'penalty': 'l2', 'solver': 'liblinear'}\n",
      "0.7866269436676729 (0.006558503853467871) - {'C': 0.01, 'penalty': 'l2', 'solver': 'lbfgs'}\n",
      "0.7859363623776294 (0.00589686349516534) - {'C': 10, 'penalty': 'l2', 'solver': 'liblinear'}\n"
     ]
    }
   ],
   "source": [
    "print_top(search, 5)"
   ]
  },
  {
   "cell_type": "code",
   "execution_count": 34,
   "metadata": {},
   "outputs": [],
   "source": [
    "clf = LogisticRegression()\n",
    "params = dict(\n",
    "    solver=[\"newton-cg\", \"liblinear\"],\n",
    "    penalty=[\"l1\", \"l2\"],\n",
    "    C=[0.01, 0.001]\n",
    ")\n",
    "cv = GridSearchCV(clf, params, cv=5)\n",
    "search = cv.fit(X, y)"
   ]
  },
  {
   "cell_type": "code",
   "execution_count": 35,
   "metadata": {},
   "outputs": [
    {
     "name": "stdout",
     "output_type": "stream",
     "text": [
      "0.7890437131861676 (0.00923672550178682) - {'C': 0.01, 'penalty': 'l1', 'solver': 'liblinear'}\n",
      "0.7884681404455786 (0.007534567565072815) - {'C': 0.01, 'penalty': 'l2', 'solver': 'newton-cg'}\n",
      "0.7872019864149463 (0.007038454898849268) - {'C': 0.01, 'penalty': 'l2', 'solver': 'liblinear'}\n",
      "0.7821379665348971 (0.006698236364189081) - {'C': 0.001, 'penalty': 'l2', 'solver': 'liblinear'}\n",
      "0.7798362718150218 (0.007629729616703697) - {'C': 0.001, 'penalty': 'l2', 'solver': 'newton-cg'}\n"
     ]
    }
   ],
   "source": [
    "print_top(search, 5)"
   ]
  },
  {
   "cell_type": "markdown",
   "metadata": {},
   "source": [
    "The best set of parameters: {'C': 0.01, 'penalty': 'l1', 'solver': 'liblinear'}"
   ]
  },
  {
   "cell_type": "markdown",
   "metadata": {},
   "source": [
    "### SVC"
   ]
  },
  {
   "cell_type": "code",
   "execution_count": 31,
   "metadata": {},
   "outputs": [
    {
     "name": "stdout",
     "output_type": "stream",
     "text": [
      "Fitting 5 folds for each of 10 candidates, totalling 50 fits\n",
      "[CV 1/5] END ...............C=0.01, kernel=poly;, score=0.577 total time=   0.9s\n",
      "[CV 2/5] END ...............C=0.01, kernel=poly;, score=0.578 total time=   1.0s\n",
      "[CV 3/5] END ...............C=0.01, kernel=poly;, score=0.560 total time=   1.0s\n",
      "[CV 4/5] END ...............C=0.01, kernel=poly;, score=0.571 total time=   1.0s\n",
      "[CV 5/5] END ...............C=0.01, kernel=poly;, score=0.564 total time=   0.9s\n",
      "[CV 1/5] END ...........C=0.001, kernel=sigmoid;, score=0.535 total time=   1.4s\n",
      "[CV 2/5] END ...........C=0.001, kernel=sigmoid;, score=0.519 total time=   1.5s\n",
      "[CV 3/5] END ...........C=0.001, kernel=sigmoid;, score=0.530 total time=   1.4s\n",
      "[CV 4/5] END ...........C=0.001, kernel=sigmoid;, score=0.521 total time=   1.4s\n",
      "[CV 5/5] END ...........C=0.001, kernel=sigmoid;, score=0.526 total time=   1.4s\n",
      "[CV 1/5] END .................C=0.1, kernel=rbf;, score=0.758 total time=   1.1s\n",
      "[CV 2/5] END .................C=0.1, kernel=rbf;, score=0.785 total time=   1.2s\n",
      "[CV 3/5] END .................C=0.1, kernel=rbf;, score=0.771 total time=   1.2s\n",
      "[CV 4/5] END .................C=0.1, kernel=rbf;, score=0.761 total time=   1.2s\n",
      "[CV 5/5] END .................C=0.1, kernel=rbf;, score=0.765 total time=   1.2s\n",
      "[CV 1/5] END ...............C=0.001, kernel=rbf;, score=0.504 total time=   1.8s\n",
      "[CV 2/5] END ...............C=0.001, kernel=rbf;, score=0.504 total time=   1.8s\n",
      "[CV 3/5] END ...............C=0.001, kernel=rbf;, score=0.503 total time=   1.8s\n",
      "[CV 4/5] END ...............C=0.001, kernel=rbf;, score=0.503 total time=   1.8s\n",
      "[CV 5/5] END ...............C=0.001, kernel=rbf;, score=0.504 total time=   1.8s\n",
      "[CV 1/5] END ...............C=1, kernel=sigmoid;, score=0.500 total time=   1.0s\n",
      "[CV 2/5] END ...............C=1, kernel=sigmoid;, score=0.511 total time=   1.0s\n",
      "[CV 3/5] END ...............C=1, kernel=sigmoid;, score=0.487 total time=   1.0s\n",
      "[CV 4/5] END ...............C=1, kernel=sigmoid;, score=0.512 total time=   0.9s\n",
      "[CV 5/5] END ...............C=1, kernel=sigmoid;, score=0.497 total time=   0.9s\n",
      "[CV 1/5] END ............C=0.01, kernel=sigmoid;, score=0.582 total time=   1.2s\n",
      "[CV 2/5] END ............C=0.01, kernel=sigmoid;, score=0.587 total time=   1.3s\n",
      "[CV 3/5] END ............C=0.01, kernel=sigmoid;, score=0.581 total time=   1.2s\n",
      "[CV 4/5] END ............C=0.01, kernel=sigmoid;, score=0.585 total time=   1.3s\n",
      "[CV 5/5] END ............C=0.01, kernel=sigmoid;, score=0.566 total time=   1.2s\n",
      "[CV 1/5] END ...................C=1, kernel=rbf;, score=0.776 total time=   1.1s\n",
      "[CV 2/5] END ...................C=1, kernel=rbf;, score=0.800 total time=   1.1s\n",
      "[CV 3/5] END ...................C=1, kernel=rbf;, score=0.779 total time=   1.1s\n",
      "[CV 4/5] END ...................C=1, kernel=rbf;, score=0.778 total time=   1.0s\n",
      "[CV 5/5] END ...................C=1, kernel=rbf;, score=0.778 total time=   1.0s\n",
      "[CV 1/5] END ................C=0.01, kernel=rbf;, score=0.703 total time=   1.6s\n",
      "[CV 2/5] END ................C=0.01, kernel=rbf;, score=0.705 total time=   1.6s\n",
      "[CV 3/5] END ................C=0.01, kernel=rbf;, score=0.690 total time=   1.6s\n",
      "[CV 4/5] END ................C=0.01, kernel=rbf;, score=0.687 total time=   1.6s\n",
      "[CV 5/5] END ................C=0.01, kernel=rbf;, score=0.670 total time=   1.6s\n",
      "[CV 1/5] END ..............C=0.001, kernel=poly;, score=0.552 total time=   1.0s\n",
      "[CV 2/5] END ..............C=0.001, kernel=poly;, score=0.553 total time=   1.0s\n",
      "[CV 3/5] END ..............C=0.001, kernel=poly;, score=0.545 total time=   1.0s\n",
      "[CV 4/5] END ..............C=0.001, kernel=poly;, score=0.545 total time=   1.1s\n",
      "[CV 5/5] END ..............C=0.001, kernel=poly;, score=0.545 total time=   1.0s\n",
      "[CV 1/5] END ................C=0.1, kernel=poly;, score=0.611 total time=   1.0s\n",
      "[CV 2/5] END ................C=0.1, kernel=poly;, score=0.609 total time=   1.0s\n",
      "[CV 3/5] END ................C=0.1, kernel=poly;, score=0.597 total time=   1.0s\n",
      "[CV 4/5] END ................C=0.1, kernel=poly;, score=0.620 total time=   0.9s\n",
      "[CV 5/5] END ................C=0.1, kernel=poly;, score=0.602 total time=   1.0s\n"
     ]
    }
   ],
   "source": [
    "clf = SVC()\n",
    "params = dict(\n",
    "    kernel=[\"poly\", \"rbf\", \"sigmoid\"], # linear is very slow\n",
    "    C=[1, 0.1, 0.01, 0.001]\n",
    ")\n",
    "cv = RandomizedSearchCV(clf, params, cv=5, n_iter=10, random_state=0, n_jobs=6)\n",
    "search = cv.fit(X, y)"
   ]
  },
  {
   "cell_type": "code",
   "execution_count": 32,
   "metadata": {},
   "outputs": [
    {
     "name": "stdout",
     "output_type": "stream",
     "text": [
      "0.7822529750843519 (0.00911986849969932) - {'kernel': 'rbf', 'C': 1}\n",
      "0.7680972511234202 (0.009663518890672133) - {'kernel': 'rbf', 'C': 0.1}\n",
      "0.6908711301378712 (0.012469846277326758) - {'kernel': 'rbf', 'C': 0.01}\n",
      "0.6077793081334761 (0.007688535929613592) - {'kernel': 'poly', 'C': 0.1}\n",
      "0.5801572490166967 (0.007203160424468985) - {'kernel': 'sigmoid', 'C': 0.01}\n"
     ]
    }
   ],
   "source": [
    "print_top(search, 5)"
   ]
  },
  {
   "cell_type": "code",
   "execution_count": 38,
   "metadata": {},
   "outputs": [],
   "source": [
    "clf = SVC(kernel=\"rbf\")\n",
    "params = dict(\n",
    "    C=[1000, 100, 1, 0.1, 0.01, 0.001]\n",
    ")\n",
    "cv = GridSearchCV(clf, params, cv=5, n_jobs=6)\n",
    "search = cv.fit(X, y)"
   ]
  },
  {
   "cell_type": "code",
   "execution_count": 39,
   "metadata": {},
   "outputs": [
    {
     "name": "stdout",
     "output_type": "stream",
     "text": [
      "0.7842091804117121 (0.006159073675591646) - {'C': 1000}\n",
      "0.7836338064186166 (0.006026250600196733) - {'C': 1}\n",
      "0.7832885820227592 (0.0059317530661726035) - {'C': 100}\n",
      "0.7670619091816705 (0.00662059144671173) - {'C': 0.1}\n",
      "0.6930593400390738 (0.006464706613389558) - {'C': 0.01}\n"
     ]
    }
   ],
   "source": [
    "print_top(search, 5)"
   ]
  },
  {
   "cell_type": "markdown",
   "metadata": {},
   "source": [
    "### Adaboost"
   ]
  },
  {
   "cell_type": "code",
   "execution_count": 40,
   "metadata": {},
   "outputs": [],
   "source": [
    "clf = AdaBoostClassifier()\n",
    "params = dict(\n",
    "    n_estimators=[50,100,200],\n",
    "    learning_rate=[0.5, 1, 2],\n",
    "    algorithm=[\"SAMME\", \"SAMME.R\"]\n",
    ")\n",
    "cv = RandomizedSearchCV(clf, params, cv=5, n_jobs=6)\n",
    "search = cv.fit(X, y)"
   ]
  },
  {
   "cell_type": "code",
   "execution_count": 43,
   "metadata": {},
   "outputs": [
    {
     "name": "stdout",
     "output_type": "stream",
     "text": [
      "0.7861667769715255 (0.004203583221198883) - {'n_estimators': 100, 'learning_rate': 1, 'algorithm': 'SAMME.R'}\n",
      "0.7857072727670222 (0.008509831543071718) - {'n_estimators': 50, 'learning_rate': 1, 'algorithm': 'SAMME.R'}\n",
      "0.7854762619306465 (0.0027997112049168126) - {'n_estimators': 200, 'learning_rate': 1, 'algorithm': 'SAMME.R'}\n",
      "0.7743132114746203 (0.00542854193321911) - {'n_estimators': 200, 'learning_rate': 1, 'algorithm': 'SAMME'}\n",
      "0.7683285932056181 (0.00705429304771372) - {'n_estimators': 100, 'learning_rate': 1, 'algorithm': 'SAMME'}\n"
     ]
    }
   ],
   "source": [
    "print_top(search, 5)"
   ]
  },
  {
   "cell_type": "code",
   "execution_count": 44,
   "metadata": {},
   "outputs": [],
   "source": [
    "clf = AdaBoostClassifier(algorithm=\"SAMME.R\")\n",
    "params = dict(\n",
    "    n_estimators=[50,100,200],\n",
    "    learning_rate=[0.8, 0.9, 1, 1.1],\n",
    ")\n",
    "cv = RandomizedSearchCV(clf, params, cv=5, n_jobs=6)\n",
    "search = cv.fit(X, y)"
   ]
  },
  {
   "cell_type": "code",
   "execution_count": 45,
   "metadata": {},
   "outputs": [
    {
     "name": "stdout",
     "output_type": "stream",
     "text": [
      "0.788584010234171 (0.0038901470938753476) - {'n_estimators': 100, 'learning_rate': 0.8}\n",
      "0.7874333947463088 (0.006370594262989713) - {'n_estimators': 100, 'learning_rate': 0.9}\n",
      "0.7868577557565555 (0.007788288559837427) - {'n_estimators': 50, 'learning_rate': 1.1}\n",
      "0.7865121338657117 (0.005101730184878219) - {'n_estimators': 50, 'learning_rate': 0.8}\n",
      "0.7861667769715255 (0.004203583221198883) - {'n_estimators': 100, 'learning_rate': 1}\n"
     ]
    }
   ],
   "source": [
    "print_top(search, 5)"
   ]
  },
  {
   "cell_type": "code",
   "execution_count": 46,
   "metadata": {},
   "outputs": [],
   "source": [
    "clf = AdaBoostClassifier(algorithm=\"SAMME.R\", n_estimators=100)\n",
    "params = dict(\n",
    "    learning_rate=[0.6, 0.7, 0.75, 0.8, 0.9],\n",
    ")\n",
    "cv = GridSearchCV(clf, params, cv=5, n_jobs=6)\n",
    "search = cv.fit(X, y)"
   ]
  },
  {
   "cell_type": "code",
   "execution_count": 47,
   "metadata": {},
   "outputs": [
    {
     "name": "stdout",
     "output_type": "stream",
     "text": [
      "0.7913458716501938 (0.00405323850088705) - {'learning_rate': 0.6}\n",
      "0.788584010234171 (0.0038901470938753476) - {'learning_rate': 0.8}\n",
      "0.7882391170841359 (0.005465521143821173) - {'learning_rate': 0.75}\n",
      "0.7877785528930017 (0.004360656628882575) - {'learning_rate': 0.7}\n",
      "0.7874333947463088 (0.006370594262989713) - {'learning_rate': 0.9}\n"
     ]
    }
   ],
   "source": [
    "print_top(search, 5)"
   ]
  },
  {
   "cell_type": "code",
   "execution_count": 49,
   "metadata": {},
   "outputs": [
    {
     "name": "stdout",
     "output_type": "stream",
     "text": [
      "DecisionTree depth: DecisionTreeClassifier(max_depth=1). Score: 0.7913458716501938\n",
      "DecisionTree depth: DecisionTreeClassifier(max_depth=2). Score: 0.7868576232582267\n",
      "DecisionTree depth: DecisionTreeClassifier(max_depth=3). Score: 0.7828300053065581\n",
      "DecisionTree depth: DecisionTreeClassifier(max_depth=4). Score: 0.7653364496940281\n",
      "DecisionTree depth: DecisionTreeClassifier(max_depth=5). Score: 0.7442730578560578\n"
     ]
    }
   ],
   "source": [
    "for i in range(1, 6):\n",
    "    dt = DecisionTreeClassifier(max_depth=i)\n",
    "    clf = AdaBoostClassifier(estimator=dt, algorithm=\"SAMME.R\", n_estimators=100, learning_rate=0.6)\n",
    "\n",
    "    score = cross_val_score(clf, X, y, cv=5)\n",
    "    print(f\"DecisionTree depth: {dt}. Score: {score.mean()}\")\n"
   ]
  },
  {
   "cell_type": "code",
   "execution_count": 51,
   "metadata": {},
   "outputs": [
    {
     "name": "stdout",
     "output_type": "stream",
     "text": [
      "DecisionTree depth: DecisionTreeClassifier(max_depth=1)\n",
      "0.7913458716501938 (0.00405323850088705) - {'n_estimators': 100, 'learning_rate': 0.6, 'algorithm': 'SAMME.R'}\n",
      "0.7885836789883487 (0.003301005752473148) - {'n_estimators': 200, 'learning_rate': 0.6, 'algorithm': 'SAMME.R'}\n",
      "0.7882391170841359 (0.005465521143821173) - {'n_estimators': 100, 'learning_rate': 0.75, 'algorithm': 'SAMME.R'}\n",
      "\n",
      "DecisionTree depth: DecisionTreeClassifier(max_depth=2)\n",
      "0.7931877309197437 (0.004905962392628164) - {'n_estimators': 50, 'learning_rate': 0.6, 'algorithm': 'SAMME.R'}\n",
      "0.790655555356808 (0.0044153602109550045) - {'n_estimators': 50, 'learning_rate': 0.75, 'algorithm': 'SAMME.R'}\n",
      "0.7868576232582267 (0.0063808092922737125) - {'n_estimators': 100, 'learning_rate': 0.6, 'algorithm': 'SAMME.R'}\n",
      "\n",
      "DecisionTree depth: DecisionTreeClassifier(max_depth=3)\n",
      "0.7890436469370029 (0.005713221362543097) - {'n_estimators': 10, 'learning_rate': 0.75, 'algorithm': 'SAMME.R'}\n",
      "0.7872023839099329 (0.0042876175316662445) - {'n_estimators': 50, 'learning_rate': 0.6, 'algorithm': 'SAMME.R'}\n",
      "0.7865129951048493 (0.008920894106000084) - {'n_estimators': 50, 'learning_rate': 0.75, 'algorithm': 'SAMME.R'}\n",
      "\n",
      "DecisionTree depth: DecisionTreeClassifier(max_depth=4)\n",
      "0.7900795851212327 (0.0051312759600870075) - {'n_estimators': 10, 'learning_rate': 0.6, 'algorithm': 'SAMME.R'}\n",
      "0.786167174466512 (0.004278137393056514) - {'n_estimators': 10, 'learning_rate': 0.9, 'algorithm': 'SAMME.R'}\n",
      "0.7852455823400926 (0.003505671051313108) - {'n_estimators': 10, 'learning_rate': 0.75, 'algorithm': 'SAMME.R'}\n",
      "\n",
      "DecisionTree depth: DecisionTreeClassifier(max_depth=5)\n",
      "0.7890437131861674 (0.004913053137771946) - {'n_estimators': 10, 'learning_rate': 0.6, 'algorithm': 'SAMME.R'}\n",
      "0.7873175912068809 (0.004300335419102233) - {'n_estimators': 10, 'learning_rate': 0.75, 'algorithm': 'SAMME.R'}\n",
      "0.7760382734672758 (0.00902981338855586) - {'n_estimators': 10, 'learning_rate': 0.9, 'algorithm': 'SAMME.R'}\n",
      "\n"
     ]
    }
   ],
   "source": [
    "for i in range(1, 6):\n",
    "    dt = DecisionTreeClassifier(max_depth=i)\n",
    "    clf = AdaBoostClassifier(estimator=dt)\n",
    "    params = dict(\n",
    "        n_estimators=[10, 50,100,200],\n",
    "        learning_rate=[0.6, 0.75, 0.9],\n",
    "        algorithm=[\"SAMME.R\"]\n",
    "    )\n",
    "    cv = RandomizedSearchCV(clf, params, cv=5, n_jobs=6)\n",
    "    search = cv.fit(X, y)\n",
    "\n",
    "    print(f\"DecisionTree depth: {dt}\")\n",
    "    print_top(search, 3)\n",
    "    print()"
   ]
  },
  {
   "cell_type": "markdown",
   "metadata": {},
   "source": [
    "Conclusion:\n",
    "- All classifiers achieved similar performance - at around 78%-79% accuracy\n",
    "- Drawback of SVC is longer execution time, while performance is similar.\n",
    "- Two classifiers achieved performance over 79%: RandomForest and AdaBoost with DecisionTree as an estimator. Both of them are rather quickly."
   ]
  },
  {
   "cell_type": "markdown",
   "metadata": {},
   "source": [
    "### Do normalization of variables gives better accuracy?"
   ]
  },
  {
   "cell_type": "code",
   "execution_count": 52,
   "metadata": {},
   "outputs": [],
   "source": [
    "from sklearn.preprocessing import normalize\n",
    "X_norm = normalize(X)\n"
   ]
  },
  {
   "cell_type": "code",
   "execution_count": 55,
   "metadata": {},
   "outputs": [
    {
     "name": "stdout",
     "output_type": "stream",
     "text": [
      "DecisionTree depth: DecisionTreeClassifier(max_depth=1)\n",
      "0.7872019201657819 (0.00429527937740406) - {'n_estimators': 200, 'learning_rate': 0.6, 'algorithm': 'SAMME.R'}\n",
      "0.786396529073777 (0.005036934172745791) - {'n_estimators': 100, 'learning_rate': 0.75, 'algorithm': 'SAMME.R'}\n",
      "0.785821221329846 (0.0030697578918190897) - {'n_estimators': 200, 'learning_rate': 0.75, 'algorithm': 'SAMME.R'}\n",
      "\n",
      "DecisionTree depth: DecisionTreeClassifier(max_depth=2)\n",
      "0.7885832152441977 (0.0036705987294346288) - {'n_estimators': 50, 'learning_rate': 0.6, 'algorithm': 'SAMME.R'}\n",
      "0.7840944368589151 (0.003811242552287828) - {'n_estimators': 100, 'learning_rate': 0.6, 'algorithm': 'SAMME.R'}\n",
      "0.7837500737021955 (0.005762541593192365) - {'n_estimators': 10, 'learning_rate': 0.75, 'algorithm': 'SAMME.R'}\n",
      "\n",
      "DecisionTree depth: DecisionTreeClassifier(max_depth=3)\n",
      "0.7876620868619295 (0.006116677483275637) - {'n_estimators': 10, 'learning_rate': 0.6, 'algorithm': 'SAMME.R'}\n",
      "0.7844391312614569 (0.004742491045244454) - {'n_estimators': 10, 'learning_rate': 0.9, 'algorithm': 'SAMME.R'}\n",
      "0.7819082806818098 (0.007014701111723195) - {'n_estimators': 10, 'learning_rate': 0.75, 'algorithm': 'SAMME.R'}\n",
      "\n",
      "DecisionTree depth: DecisionTreeClassifier(max_depth=4)\n",
      "0.7888125036022983 (0.007440723099048566) - {'n_estimators': 10, 'learning_rate': 0.6, 'algorithm': 'SAMME.R'}\n",
      "0.7838639560158547 (0.00478538054306593) - {'n_estimators': 10, 'learning_rate': 0.75, 'algorithm': 'SAMME.R'}\n",
      "0.7784546454907837 (0.004471654747771126) - {'n_estimators': 10, 'learning_rate': 0.9, 'algorithm': 'SAMME.R'}\n",
      "\n",
      "DecisionTree depth: DecisionTreeClassifier(max_depth=5)\n",
      "0.7881221210597481 (0.0063967575319847664) - {'n_estimators': 10, 'learning_rate': 0.6, 'algorithm': 'SAMME.R'}\n",
      "0.780181032466728 (0.004599286695144895) - {'n_estimators': 10, 'learning_rate': 0.9, 'algorithm': 'SAMME.R'}\n",
      "0.778570515279376 (0.010456534974710623) - {'n_estimators': 10, 'learning_rate': 0.75, 'algorithm': 'SAMME.R'}\n",
      "\n"
     ]
    }
   ],
   "source": [
    "for i in range(1, 6):\n",
    "    dt = DecisionTreeClassifier(max_depth=i)\n",
    "    clf = AdaBoostClassifier(estimator=dt)\n",
    "    params = dict(\n",
    "        n_estimators=[10, 50,100,200],\n",
    "        learning_rate=[0.6, 0.75, 0.9],\n",
    "        algorithm=[\"SAMME.R\"]\n",
    "    )\n",
    "    cv = RandomizedSearchCV(clf, params, cv=5, n_jobs=6)\n",
    "    search = cv.fit(X_norm, y)\n",
    "\n",
    "    print(f\"DecisionTree depth: {dt}\")\n",
    "    print_top(search, 3)\n",
    "    print()"
   ]
  },
  {
   "cell_type": "markdown",
   "metadata": {},
   "source": [
    "### AdaBoost prediction and submission"
   ]
  },
  {
   "cell_type": "code",
   "execution_count": 14,
   "metadata": {},
   "outputs": [
    {
     "name": "stdout",
     "output_type": "stream",
     "text": [
      "PassengerId                0\n",
      "HomePlanet                 0\n",
      "CryoSleep                  0\n",
      "Destination                0\n",
      "Age                        0\n",
      "VIP                        0\n",
      "RoomService                0\n",
      "FoodCourt                  0\n",
      "ShoppingMall               0\n",
      "Spa                        0\n",
      "VRDeck                     0\n",
      "TicketId                   0\n",
      "InvidualId                 0\n",
      "LastName                  94\n",
      "Deck                       0\n",
      "Num                        0\n",
      "Side                       0\n",
      "Num_bucket                 0\n",
      "Total spendings            0\n",
      "Age_bucket                 0\n",
      "is_travelling_in_group     0\n",
      "dtype: int64\n"
     ]
    }
   ],
   "source": [
    "from utils import data_transform_pipeline\n",
    "\n",
    "data_transform_pipeline(\"test.csv\")\n",
    "\n",
    "df = pd.read_csv(os.path.join(\"data\", \"test_transformed.csv\"))\n",
    "\n",
    "X_test = df[[\"CryoSleep\", \"Num\", \"Side\", \"Deck\", \"HomePlanet_Europa\", \"HomePlanet_Earth\", \"Age\", \"is_travelling_in_group\", \"Total spendings\",\n",
    "                 \"Spa\", \"RoomService\", \"VRDeck\"]]\n",
    "X_test.index = df[\"PassengerId\"]"
   ]
  },
  {
   "cell_type": "code",
   "execution_count": 15,
   "metadata": {},
   "outputs": [],
   "source": [
    "dt = DecisionTreeClassifier(max_depth=2)\n",
    "clf = AdaBoostClassifier(dt, **{'n_estimators': 50, 'learning_rate': 0.6, 'algorithm': 'SAMME.R'})\n",
    "\n",
    "clf.fit(X, y)\n",
    "predict = clf.predict(X_test)\n",
    "\n",
    "result = pd.DataFrame()\n",
    "result[\"PassengerId\"] = X_test.index\n",
    "result[\"Transported\"] = predict"
   ]
  },
  {
   "cell_type": "code",
   "execution_count": 16,
   "metadata": {},
   "outputs": [
    {
     "data": {
      "text/html": [
       "<div>\n",
       "<style scoped>\n",
       "    .dataframe tbody tr th:only-of-type {\n",
       "        vertical-align: middle;\n",
       "    }\n",
       "\n",
       "    .dataframe tbody tr th {\n",
       "        vertical-align: top;\n",
       "    }\n",
       "\n",
       "    .dataframe thead th {\n",
       "        text-align: right;\n",
       "    }\n",
       "</style>\n",
       "<table border=\"1\" class=\"dataframe\">\n",
       "  <thead>\n",
       "    <tr style=\"text-align: right;\">\n",
       "      <th></th>\n",
       "      <th>PassengerId</th>\n",
       "      <th>Transported</th>\n",
       "    </tr>\n",
       "  </thead>\n",
       "  <tbody>\n",
       "    <tr>\n",
       "      <th>0</th>\n",
       "      <td>0013_01</td>\n",
       "      <td>True</td>\n",
       "    </tr>\n",
       "    <tr>\n",
       "      <th>1</th>\n",
       "      <td>0018_01</td>\n",
       "      <td>False</td>\n",
       "    </tr>\n",
       "    <tr>\n",
       "      <th>2</th>\n",
       "      <td>0019_01</td>\n",
       "      <td>True</td>\n",
       "    </tr>\n",
       "    <tr>\n",
       "      <th>3</th>\n",
       "      <td>0021_01</td>\n",
       "      <td>True</td>\n",
       "    </tr>\n",
       "    <tr>\n",
       "      <th>4</th>\n",
       "      <td>0023_01</td>\n",
       "      <td>False</td>\n",
       "    </tr>\n",
       "    <tr>\n",
       "      <th>...</th>\n",
       "      <td>...</td>\n",
       "      <td>...</td>\n",
       "    </tr>\n",
       "    <tr>\n",
       "      <th>4272</th>\n",
       "      <td>9266_02</td>\n",
       "      <td>True</td>\n",
       "    </tr>\n",
       "    <tr>\n",
       "      <th>4273</th>\n",
       "      <td>9269_01</td>\n",
       "      <td>False</td>\n",
       "    </tr>\n",
       "    <tr>\n",
       "      <th>4274</th>\n",
       "      <td>9271_01</td>\n",
       "      <td>True</td>\n",
       "    </tr>\n",
       "    <tr>\n",
       "      <th>4275</th>\n",
       "      <td>9273_01</td>\n",
       "      <td>True</td>\n",
       "    </tr>\n",
       "    <tr>\n",
       "      <th>4276</th>\n",
       "      <td>9277_01</td>\n",
       "      <td>True</td>\n",
       "    </tr>\n",
       "  </tbody>\n",
       "</table>\n",
       "<p>4277 rows × 2 columns</p>\n",
       "</div>"
      ],
      "text/plain": [
       "     PassengerId  Transported\n",
       "0        0013_01         True\n",
       "1        0018_01        False\n",
       "2        0019_01         True\n",
       "3        0021_01         True\n",
       "4        0023_01        False\n",
       "...          ...          ...\n",
       "4272     9266_02         True\n",
       "4273     9269_01        False\n",
       "4274     9271_01         True\n",
       "4275     9273_01         True\n",
       "4276     9277_01         True\n",
       "\n",
       "[4277 rows x 2 columns]"
      ]
     },
     "execution_count": 16,
     "metadata": {},
     "output_type": "execute_result"
    }
   ],
   "source": [
    "result"
   ]
  },
  {
   "cell_type": "code",
   "execution_count": 17,
   "metadata": {},
   "outputs": [],
   "source": [
    "result.to_csv(os.path.join(\"data\", \"20240119_adaboost.csv\"), index=False)"
   ]
  },
  {
   "cell_type": "markdown",
   "metadata": {},
   "source": [
    "Eventually, that model achieved 78.9% accuracy score on Kaggle. I would say that this is decent score, but I'd like to go over 80%. I'm gonna read other peoples notebooks and I'll try improve my solution."
   ]
  },
  {
   "cell_type": "markdown",
   "metadata": {},
   "source": [
    "### Random forest prediction and submission"
   ]
  },
  {
   "cell_type": "code",
   "execution_count": 19,
   "metadata": {},
   "outputs": [],
   "source": [
    "clf = RandomForestClassifier(**{'n_estimators': 200, 'criterion': 'log_loss', 'max_features': 'sqrt'})\n",
    "\n",
    "clf.fit(X, y)\n",
    "predict = clf.predict(X_test)\n",
    "\n",
    "result = pd.DataFrame()\n",
    "result[\"PassengerId\"] = X_test.index\n",
    "result[\"Transported\"] = predict"
   ]
  },
  {
   "cell_type": "code",
   "execution_count": 20,
   "metadata": {},
   "outputs": [],
   "source": [
    "result.to_csv(os.path.join(\"data\", \"20240119_randomforest.csv\"), index=False)"
   ]
  },
  {
   "cell_type": "markdown",
   "metadata": {},
   "source": [
    "This submission got 78.7% accuracy score."
   ]
  }
 ],
 "metadata": {
  "kernelspec": {
   "display_name": "venv",
   "language": "python",
   "name": "python3"
  },
  "language_info": {
   "codemirror_mode": {
    "name": "ipython",
    "version": 3
   },
   "file_extension": ".py",
   "mimetype": "text/x-python",
   "name": "python",
   "nbconvert_exporter": "python",
   "pygments_lexer": "ipython3",
   "version": "3.10.7"
  }
 },
 "nbformat": 4,
 "nbformat_minor": 2
}
